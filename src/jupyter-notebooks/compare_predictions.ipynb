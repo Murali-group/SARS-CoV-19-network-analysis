{
 "cells": [
  {
   "cell_type": "markdown",
   "metadata": {},
   "source": [
    "# Compare predictions\n",
    "Compute the jaccard index of the top k predictions \n",
    "- across all networks for a given alg\n",
    "- across all algs for a given network\n"
   ]
  },
  {
   "cell_type": "code",
   "execution_count": 1,
   "metadata": {},
   "outputs": [
    {
     "data": {
      "text/plain": [
       "'/data/jeff-law/projects/2020-03-covid-19/SARS-CoV-2-network-analysis-branch'"
      ]
     },
     "execution_count": 1,
     "metadata": {},
     "output_type": "execute_result"
    }
   ],
   "source": [
    "# the rest of the imports require the location to be the base of the repo \n",
    "#   i.e., SARS-CoV-2-network-analysis)\n",
    "# run this first if needed to get to the right directory\n",
    "import os\n",
    "os.chdir('../../')\n",
    "# os.chdir('/data/jeff-law/projects/2020-03-covid-19/SARS-CoV-2-network-analysis')\n",
    "os.getcwd()"
   ]
  },
  {
   "cell_type": "code",
   "execution_count": 3,
   "metadata": {},
   "outputs": [
    {
     "name": "stdout",
     "output_type": "stream",
     "text": [
      "python version: 3.7.7 (default, Mar 13 2020, 13:32:22) \n",
      "matplotlib version: 3.2.1\n",
      "seaborn version: 0.10.0\n",
      "pandas version: 1.0.3\n",
      "numpy version: 1.18.2\n"
     ]
    }
   ],
   "source": [
    "from collections import defaultdict\n",
    "import argparse\n",
    "import os, sys\n",
    "from tqdm import tqdm\n",
    "import itertools\n",
    "#import utils.file_utils as utils\n",
    "# also compute the significance of sinksource vs local\n",
    "#from scipy.stats import kruskal, mannwhitneyu\n",
    "# plotting imports\n",
    "import matplotlib\n",
    "import matplotlib.pyplot as plt\n",
    "import pandas as pd\n",
    "import seaborn as sns\n",
    "import numpy as np\n",
    "print(\"python version: %s\" % (sys.version.split('\\n')[0]))\n",
    "print(\"matplotlib version: %s\" % matplotlib.__version__)\n",
    "print(\"seaborn version: %s\" % sns.__version__)\n",
    "print(\"pandas version: %s\" % pd.__version__)\n",
    "print(\"numpy version: %s\" % (np.__version__))\n",
    "# make this the default for now\n",
    "sns.set_style('darkgrid')\n",
    "# my local imports\n",
    "# fss_dir = os.path.dirname(os.path.dirname(os.path.dirname(__file__)))\n",
    "# sys.path.insert(0,fss_dir)\n",
    "from src.annotation_prediction.src import main as run_eval_algs\n",
    "from src.annotation_prediction.src.plot import plot_utils\n",
    "from src.annotation_prediction.src.algorithms import runner\n",
    "from src.annotation_prediction.src.algorithms import alg_utils\n",
    "from src.annotation_prediction.src.utils import config_utils\n",
    "from src.annotation_prediction.src.evaluate import cross_validation as cv\n",
    "\n",
    "%matplotlib inline  "
   ]
  },
  {
   "cell_type": "code",
   "execution_count": 4,
   "metadata": {},
   "outputs": [],
   "source": [
    "def load_all_pred(input_settings, output_dir, alg_settings, use_alg_plot_name=True, k=100, **kwargs):\n",
    "#     df_all = pd.DataFrame()\n",
    "    order = []\n",
    "    dataset_alg_prots = defaultdict(dict)\n",
    "    # read in the predictions, and test for the statistical significance of overlap \n",
    "    for dataset in input_settings['datasets']:\n",
    "        print(\"Loading data for %s\" % (dataset['net_version']))\n",
    "        base_out_dir = \"%s/enrichment/%s/%s\" % (output_dir, dataset['net_version'], dataset['exp_name'])\n",
    "        # load the network and the positive examples for each term\n",
    "        net_obj, ann_obj, eval_ann_obj = run_eval_algs.setup_dataset(\n",
    "            dataset, input_settings['input_dir'], **kwargs)\n",
    "        prots = net_obj.nodes\n",
    "        prot_universe = set(prots)\n",
    "        print(\"\\t%d prots in universe\" % (len(prot_universe)))\n",
    "        # TODO using this for the SARS-CoV-2 project,\n",
    "        # but this should really be a general purpose script\n",
    "        # and to work on any number of terms \n",
    "        orig_pos_idx, _ = alg_utils.get_term_pos_neg(ann_obj.ann_matrix, 0)\n",
    "        orig_pos = [prots[p] for p in orig_pos_idx]\n",
    "\n",
    "#         # now load the predictions, test at the various k values, and TODO plot\n",
    "#         k_to_test = enrichment.get_k_to_test(dataset, **kwargs)\n",
    "#         print(\"\\ttesting %d k value(s): %s\" % (len(k_to_test), \", \".join([str(k) for k in k_to_test])))\n",
    "\n",
    "        # now load the prediction scores\n",
    "        dataset_name = config_utils.get_dataset_name(dataset)\n",
    "        alg_pred_files = config_utils.get_dataset_alg_prediction_files(\n",
    "            output_dir, dataset, alg_settings, use_alg_plot_name=not use_alg_plot_name, **kwargs)\n",
    "        for alg, pred_file in alg_pred_files.items():\n",
    "            if use_alg_plot_name:\n",
    "                alg = plot_utils.ALG_NAMES.get(alg,alg)\n",
    "            if not os.path.isfile(pred_file):\n",
    "                print(\"Warning: %s not found. skipping\" % (pred_file))\n",
    "                continue\n",
    "            print(\"reading: %s\" % (pred_file))\n",
    "            df = pd.read_csv(pred_file, sep='\\t')\n",
    "            # remove the original positives\n",
    "            df = df[~df['prot'].isin(orig_pos)]\n",
    "            df.reset_index(inplace=True, drop=True)\n",
    "            topk_predictions = list(df.iloc[:k]['prot'])\n",
    "            # UPDATE: Also load the node score pvals, and keep only the nodes with a pval < 0.05\n",
    "            pval_file = pred_file.replace('outputs/','outputs/viz') \\\n",
    "                                 .replace('.txt','-1000rand-10kmeans-pvals.tsv')\n",
    "            print(\"reading pvals from: %s\" % (pval_file))\n",
    "            df_pval = pd.read_csv(pval_file, sep='\\t', index_col=0)\n",
    "            df_pval = df_pval[df_pval['pval'] < 0.05]\n",
    "            print(\"\\t%d prots with pval < 0.05\" % (len(df_pval)))\n",
    "            df = df[df['prot'].isin(df_pval.index)]\n",
    "            print(\"%d of the top %s prots have pval < 0.05\" % (len(set(topk_predictions) & set(df_pval.index)), k))\n",
    "            \n",
    "            df.reset_index(inplace=True, drop=True)\n",
    "            #df = df[['prot', 'score']]\n",
    "            df.sort_values(by='score', ascending=False, inplace=True)\n",
    "            if k is not None:\n",
    "                topk_predictions = list(df.iloc[:k]['prot'])\n",
    "                dataset_alg_prots[dataset_name][alg] = topk_predictions\n",
    "            else:\n",
    "                dataset_alg_prots[dataset_name][alg] = df\n",
    "#             order.append(dataset_name)\n",
    "            order.append(alg)\n",
    "    return dataset_alg_prots, order"
   ]
  },
  {
   "cell_type": "code",
   "execution_count": 85,
   "metadata": {},
   "outputs": [],
   "source": [
    "config_files = [\n",
    "#     \"fss_inputs/config_files/combined/string-tissuenet-lung.yaml\",\n",
    "    \"ann_pred_inputs/config_files/stringv11/string-combined-and-deepnf.yaml\",\n",
    "#     \"fss_inputs/config_files/params-testing/400-cv5-nf5-nr100-ace2.yaml\",\n",
    "]\n",
    "neg_factor = 5\n",
    "# k_to_test = [100,200,300]\n",
    "k_to_test = [1000]"
   ]
  },
  {
   "cell_type": "code",
   "execution_count": 86,
   "metadata": {},
   "outputs": [],
   "source": [
    "# manually change the order of the heatmap to match the clustergrid output\n",
    "# algs = ['localplus', 'rl', 'rwr', 'sinksourceplus', 'deepnf', 'svm', 'logistic_regression', 'genemania']\n",
    "algs = ['rl', 'rwr', 'sinksourceplus', 'deepnf', 'svm', 'localplus', 'logistic_regression', 'genemania']"
   ]
  },
  {
   "cell_type": "code",
   "execution_count": 87,
   "metadata": {},
   "outputs": [
    {
     "name": "stdout",
     "output_type": "stream",
     "text": [
      "ann_pred_inputs/config_files/stringv11/string-combined-and-deepnf.yaml\n",
      "{'num_pred_to_write': -1, 'num_reps': 100, 'sample_neg_examples_factor': 5, 'postfix': '', 'algs': ['rl', 'rwr', 'sinksourceplus', 'deepnf', 'svm', 'localplus', 'logistic_regression', 'genemania'], 'cross_validation_folds': 5, 'cv_seed': None}\n",
      "Loading data for networks/stringv11/400\n",
      "\treading sparse nets from ann_pred_inputs/networks/stringv11/400/sparse-nets/c400-combined_score-sparse-nets.mat\n",
      "\treading node ids file from ann_pred_inputs/networks/stringv11/400/sparse-nets/c400-combined_score-node-ids.txt\n",
      "\treading network_names from ann_pred_inputs/networks/stringv11/400/sparse-nets/c400-combined_score-net-names.txt\n",
      "Reading annotation matrix from ann_pred_inputs/networks/stringv11/400/sparse-anns/combined_score-2020-03-sarscov2-human-ppi-ace2-pos.npz\n",
      "\t18886 nodes, 977789.0 edges\n",
      "1 connected_components; sizes: max: 18886, 75%: 18886, median: 18886, 25%: 18886\n",
      "\t100.00% nodes in the largest cc\n",
      "top 20 connected_components sizes:\n",
      "18886\n",
      "329/329 (100.00%) pos prots are in the largest cc\n",
      "\t18886 prots in universe\n",
      "reading: outputs//networks/stringv11/400/2020-03-sarscov2-human-ppi-ace2//rl/pred-scores-rep100-nf5-a3_4-tol1e-05.txt\n",
      "reading pvals from: outputs/viz/networks/stringv11/400/2020-03-sarscov2-human-ppi-ace2//rl/pred-scores-rep100-nf5-a3_4-tol1e-05-1000rand-10kmeans-pvals.tsv\n",
      "\t1651 prots with pval < 0.05\n",
      "968 of the top 1000 prots have pval < 0.05\n",
      "reading: outputs//networks/stringv11/400/2020-03-sarscov2-human-ppi-ace2//rwr/pred-scores-rep100-nf5-a0_5.txt\n",
      "reading pvals from: outputs/viz/networks/stringv11/400/2020-03-sarscov2-human-ppi-ace2//rwr/pred-scores-rep100-nf5-a0_5-1000rand-10kmeans-pvals.tsv\n",
      "\t1426 prots with pval < 0.05\n",
      "823 of the top 1000 prots have pval < 0.05\n",
      "reading: outputs//networks/stringv11/400/2020-03-sarscov2-human-ppi-ace2//sinksourceplus/pred-scores-l100-a1_0-eps0-maxi1000.txt\n",
      "reading pvals from: outputs/viz/networks/stringv11/400/2020-03-sarscov2-human-ppi-ace2//sinksourceplus/pred-scores-l100-a1_0-eps0-maxi1000-1000rand-10kmeans-pvals.tsv\n",
      "\t1855 prots with pval < 0.05\n",
      "526 of the top 1000 prots have pval < 0.05\n",
      "Warning: outputs//networks/stringv11/400/2020-03-sarscov2-human-ppi-ace2//deepnf/pred-scoresdims2500-1200-2500-ep80-bs64-nf0_5-C0_1.txt not found. skipping\n",
      "reading: outputs//networks/stringv11/400/2020-03-sarscov2-human-ppi-ace2//svm/pred-scores-rep100-nf5-l2-C1-tol1e-04-maxi1000.txt\n",
      "reading pvals from: outputs/viz/networks/stringv11/400/2020-03-sarscov2-human-ppi-ace2//svm/pred-scores-rep100-nf5-l2-C1-tol1e-04-maxi1000-1000rand-10kmeans-pvals.tsv\n",
      "\t1065 prots with pval < 0.05\n",
      "673 of the top 1000 prots have pval < 0.05\n",
      "reading: outputs//networks/stringv11/400/2020-03-sarscov2-human-ppi-ace2//localplus/pred-scores-l0.txt\n",
      "reading pvals from: outputs/viz/networks/stringv11/400/2020-03-sarscov2-human-ppi-ace2//localplus/pred-scores-l0-1000rand-10kmeans-pvals.tsv\n",
      "\t8473 prots with pval < 0.05\n",
      "917 of the top 1000 prots have pval < 0.05\n",
      "reading: outputs//networks/stringv11/400/2020-03-sarscov2-human-ppi-ace2//logistic_regression/pred-scores-rep100-nf5-l2-C1-tol1e-04-maxi100.txt\n",
      "reading pvals from: outputs/viz/networks/stringv11/400/2020-03-sarscov2-human-ppi-ace2//logistic_regression/pred-scores-rep100-nf5-l2-C1-tol1e-04-maxi100-1000rand-10kmeans-pvals.tsv\n",
      "\t550 prots with pval < 0.05\n",
      "550 of the top 1000 prots have pval < 0.05\n",
      "reading: outputs//networks/stringv11/400/2020-03-sarscov2-human-ppi-ace2//genemania/pred-scores-rep100-nf5-a0_1-tol1e-05.txt\n",
      "reading pvals from: outputs/viz/networks/stringv11/400/2020-03-sarscov2-human-ppi-ace2//genemania/pred-scores-rep100-nf5-a0_1-tol1e-05-1000rand-10kmeans-pvals.tsv\n",
      "\t561 prots with pval < 0.05\n",
      "560 of the top 1000 prots have pval < 0.05\n",
      "Loading data for networks/stringv11/400\n",
      "\treading sparse nets from ann_pred_inputs/networks/stringv11/400/sparse-nets/c400-string13-sparse-nets.mat\n",
      "\treading node ids file from ann_pred_inputs/networks/stringv11/400/sparse-nets/c400-string13-node-ids.txt\n",
      "\treading network_names from ann_pred_inputs/networks/stringv11/400/sparse-nets/c400-string13-net-names.txt\n",
      "\tnormalizing the networks\n",
      "\treading sparse nets from ann_pred_inputs/networks/stringv11/400/sparse-nets/c400-combined_score-sparse-nets.mat\n",
      "\treading node ids file from ann_pred_inputs/networks/stringv11/400/sparse-nets/c400-combined_score-node-ids.txt\n",
      "\treading network_names from ann_pred_inputs/networks/stringv11/400/sparse-nets/c400-combined_score-net-names.txt\n",
      "Reading annotation matrix from ann_pred_inputs/networks/stringv11/400/sparse-anns/combined_score-2020-03-sarscov2-human-ppi-ace2-pos.npz\n",
      "\t18886 prots in universe\n",
      "Warning: outputs//networks/stringv11/400/2020-03-sarscov2-human-ppi-ace2-all//rl/pred-scores-rep100-nf5-a3_4-tol1e-05.txt not found. skipping\n",
      "Warning: outputs//networks/stringv11/400/2020-03-sarscov2-human-ppi-ace2-all//rwr/pred-scores-rep100-nf5-a0_5.txt not found. skipping\n",
      "Warning: outputs//networks/stringv11/400/2020-03-sarscov2-human-ppi-ace2-all//sinksourceplus/pred-scores-l100-a1_0-eps0-maxi1000.txt not found. skipping\n",
      "reading: outputs//networks/stringv11/400/2020-03-sarscov2-human-ppi-ace2-all//deepnf/pred-scoresdims2500-1200-2500-ep80-bs64-nf0_5-C0_1.txt\n",
      "reading pvals from: outputs/viz/networks/stringv11/400/2020-03-sarscov2-human-ppi-ace2-all//deepnf/pred-scoresdims2500-1200-2500-ep80-bs64-nf0_5-C0_1-1000rand-10kmeans-pvals.tsv\n",
      "\t2169 prots with pval < 0.05\n",
      "993 of the top 1000 prots have pval < 0.05\n",
      "Warning: outputs//networks/stringv11/400/2020-03-sarscov2-human-ppi-ace2-all//svm/pred-scores-rep100-nf5-l2-C1-tol1e-04-maxi1000.txt not found. skipping\n",
      "Warning: outputs//networks/stringv11/400/2020-03-sarscov2-human-ppi-ace2-all//localplus/pred-scores-l0.txt not found. skipping\n",
      "Warning: outputs//networks/stringv11/400/2020-03-sarscov2-human-ppi-ace2-all//logistic_regression/pred-scores-rep100-nf5-l2-C1-tol1e-04-maxi100.txt not found. skipping\n",
      "Warning: outputs//networks/stringv11/400/2020-03-sarscov2-human-ppi-ace2-all//genemania/pred-scores-rep100-nf5-a0_1-tol1e-05.txt not found. skipping\n",
      "2 datasets\n",
      "['RL', 'RWR', 'SS', 'SVM', 'Local', 'LogReg', 'GM', 'deepNF']\n"
     ]
    }
   ],
   "source": [
    "k_results = []\n",
    "for k in k_to_test:\n",
    "    all_dataset_prots = {}\n",
    "    order = []\n",
    "    for config_file in config_files:\n",
    "        print(config_file)\n",
    "        config_map = plot_utils.load_config_file(config_file)\n",
    "        kwargs = {}\n",
    "        input_settings, alg_settings, output_settings, out_pref, kwargs = plot_utils.setup_variables(\n",
    "                config_map, '', **kwargs)\n",
    "        # set additional options here\n",
    "        kwargs['algs'] = algs\n",
    "        kwargs['num_reps'] = 100  # load all 100 repetitions of negative sampling and CV\n",
    "        kwargs['cross_validation_folds'] = 5\n",
    "        kwargs['cv_seed'] = None\n",
    "        kwargs['sample_neg_examples_factor'] = neg_factor\n",
    "        print(kwargs)\n",
    "\n",
    "        dataset_alg_prots, curr_order = load_all_pred(input_settings, output_settings['output_dir'], alg_settings, k=k, **kwargs)\n",
    "        all_dataset_prots.update(dataset_alg_prots)\n",
    "        order += curr_order\n",
    "        print(\"%d datasets\" % (len(dataset_alg_prots)))\n",
    "        print(order)\n",
    "    #     title = set_title(**kwargs)\n",
    "    #     print(title)\n",
    "    #     order = pointplot(df_all, out_file=out_file, order=order)\n",
    "    k_results.append(dataset_alg_prots)\n",
    "order = order[:len(algs)]"
   ]
  },
  {
   "cell_type": "code",
   "execution_count": 88,
   "metadata": {},
   "outputs": [],
   "source": [
    "# manually change the order of the heatmap to match the clustergrid output\n",
    "order = ['RL', 'RWR', 'SS', 'deepNF', 'SVM', 'Local', 'LogReg', 'GM']"
   ]
  },
  {
   "cell_type": "code",
   "execution_count": 89,
   "metadata": {},
   "outputs": [],
   "source": [
    "def overlap_heatmap(alg_prots, order, k, ax=None, annot=False, out_file=None, square=False, verbose=False):\n",
    "    # compute the ovlerap between each algorithm\n",
    "    overlaps = defaultdict(dict)\n",
    "    for i, (a1, prots1) in enumerate(sorted(alg_prots.items())):\n",
    "        for j, (a2, prots2) in enumerate(sorted(alg_prots.items())):\n",
    "            if j == i: \n",
    "                overlaps[a1][a2] = 1\n",
    "                continue\n",
    "            # intersection / union\n",
    "#             print(d1, d2, len(set(prots1) & set(prots2)))\n",
    "            jaccard_index = len(set(prots1) & set(prots2)) / float(len(set(prots1) | set(prots2)))\n",
    "            overlaps[a1][a2] = jaccard_index\n",
    "    df = pd.DataFrame(overlaps)\n",
    "    print(df.head())\n",
    "    df = df[order]\n",
    "    df = df.T[order].T\n",
    "    if verbose:\n",
    "        print(df.head())\n",
    "    # now make a heatmap of all the datasets\n",
    "#     f, ax = plt.subplots(figsize=(18,28))\n",
    "    cbar = True if k == k_to_test[-1] else False\n",
    "    if annot:\n",
    "        ax = sns.heatmap(data=(df*100).astype(int), cmap=\"YlGnBu\", cbar=cbar, annot=True, fmt='d', square=square, ax=ax)\n",
    "    else:\n",
    "        ax = sns.heatmap(data=df, cmap=\"YlGnBu\", cbar=cbar, square=square, ax=ax)\n",
    "    ax.set_title(\"k = %s\" % (k))\n",
    "    if out_file is not None:\n",
    "        out_file = \"outputs/viz/networks/overlap/%s-%s-jaccard.pdf\" % (dataset, alg_str)\n",
    "        print(out_file)\n",
    "        os.makedirs(os.path.dirname(out_file), exist_ok=True)\n",
    "    #     plt.savefig(out_file, bbox_inches='tight')\n",
    "        # plt.savefig(out_file.replace('.pdf','.png'), bbox_inches='tight')\n",
    "        # also write the values to a file\n",
    "    #     df.to_csv(out_file.replace('.pdf','.csv'))\n",
    "    return df, ax"
   ]
  },
  {
   "cell_type": "code",
   "execution_count": 90,
   "metadata": {},
   "outputs": [
    {
     "name": "stdout",
     "output_type": "stream",
     "text": [
      "dict_keys(['STRING-400', 'STRING-all-400'])\n",
      "STRING-400\n",
      "STRING-all-400\n",
      "              GM     Local    LogReg        RL       RWR        SS       SVM  \\\n",
      "GM      1.000000  0.033091  0.023020  0.030363  0.029005  0.026974  0.026298   \n",
      "Local   0.033091  1.000000  0.039571  0.232286  0.226994  0.201923  0.122334   \n",
      "LogReg  0.023020  0.039571  1.000000  0.045884  0.046590  0.045179  0.049425   \n",
      "RL      0.030363  0.232286  0.045884  1.000000  0.683502  0.450326  0.296176   \n",
      "RWR     0.029005  0.226994  0.046590  0.683502  1.000000  0.562500  0.317523   \n",
      "\n",
      "          deepNF  \n",
      "GM      0.028327  \n",
      "Local   0.091107  \n",
      "LogReg  0.040268  \n",
      "RL      0.217285  \n",
      "RWR     0.249219  \n",
      "outputs/viz/networks/overlap/STRING-all-400-8algs-jaccard.pdf\n"
     ]
    },
    {
     "data": {
      "image/png": "[encoded data removed]",
      "text/plain": [
       "<Figure size 576x288 with 4 Axes>"
      ]
     },
     "metadata": {
      "needs_background": "light"
     },
     "output_type": "display_data"
    }
   ],
   "source": [
    "annot = True\n",
    "datasets = k_results[0].keys()\n",
    "print(datasets)\n",
    "# UPDATE: deepnf is in a different dataset, so combine it here\n",
    "k_alg_prots = defaultdict(dict)\n",
    "for dataset in datasets:\n",
    "    print(dataset)\n",
    "    for i, dataset_alg_prots in enumerate(k_results):\n",
    "        k = k_to_test[i]\n",
    "        alg_prots = dataset_alg_prots[dataset]\n",
    "        k_alg_prots[k].update(alg_prots)\n",
    "        \n",
    "f, axes = plt.subplots(ncols=3, sharey=True, figsize=(8,4))\n",
    "for i, (k, alg_prots) in enumerate(k_alg_prots.items()):\n",
    "    ax = axes[i]\n",
    "        \n",
    "#         ax = overlap_heatmap(alg_prots, order, k, ax=ax)\n",
    "    df, ax = overlap_heatmap(alg_prots, order, k, ax=ax, annot=annot)\n",
    "    \n",
    "    \n",
    "alg_str = '-'.join(algs) if len(algs) <= 3 else \"%dalgs\" % (len(algs))\n",
    "plt.suptitle(\"Heatmap of Jaccard Index\", y=1.02)\n",
    "out_file = \"outputs/viz/networks/overlap/%s-%s-jaccard.pdf\" % (dataset, alg_str)\n",
    "print(out_file)\n",
    "os.makedirs(os.path.dirname(out_file), exist_ok=True)\n",
    "if annot:\n",
    "    plt.savefig(out_file.replace('.pdf','-ann.svg'), bbox_inches='tight')\n",
    "else:\n",
    "    plt.savefig(out_file.replace('.pdf','.svg'), bbox_inches='tight')\n",
    "plt.show()\n",
    "plt.close()"
   ]
  },
  {
   "cell_type": "code",
   "execution_count": 81,
   "metadata": {},
   "outputs": [
    {
     "name": "stdout",
     "output_type": "stream",
     "text": [
      "189\n",
      "411\n"
     ]
    }
   ],
   "source": [
    "# check how many proteins were in common between RL and RWR\n",
    "alg_prots = k_results[2]['STRING-400']\n",
    "print(len(set(alg_prots['RL']) & set(alg_prots['RWR'])))\n",
    "print(len(set(alg_prots['RL']) | set(alg_prots['RWR'])))"
   ]
  },
  {
   "cell_type": "code",
   "execution_count": 91,
   "metadata": {},
   "outputs": [
    {
     "name": "stdout",
     "output_type": "stream",
     "text": [
      "812\n",
      "1188\n"
     ]
    }
   ],
   "source": [
    "# check how many proteins were in common between RL and RWR\n",
    "alg_prots = k_results[0]['STRING-400']\n",
    "print(len(set(alg_prots['RL']) & set(alg_prots['RWR'])))\n",
    "print(len(set(alg_prots['RL']) | set(alg_prots['RWR'])))"
   ]
  },
  {
   "cell_type": "code",
   "execution_count": 82,
   "metadata": {},
   "outputs": [
    {
     "name": "stdout",
     "output_type": "stream",
     "text": [
      "167\n",
      "433\n"
     ]
    }
   ],
   "source": [
    "# check how many proteins were in common between RL and RWR\n",
    "alg_prots = k_results[2]['STRING-400']\n",
    "print(len(set(alg_prots['SVM']) & set(alg_prots['RWR'])))\n",
    "print(len(set(alg_prots['SVM']) | set(alg_prots['RWR'])))"
   ]
  },
  {
   "cell_type": "code",
   "execution_count": 83,
   "metadata": {},
   "outputs": [
    {
     "name": "stdout",
     "output_type": "stream",
     "text": [
      "157\n",
      "443\n"
     ]
    }
   ],
   "source": [
    "# check how many proteins were in common between RL and RWR\n",
    "alg_prots = k_results[2]['STRING-400']\n",
    "print(len(set(alg_prots['SS']) & set(alg_prots['RWR'])))\n",
    "print(len(set(alg_prots['SS']) | set(alg_prots['RWR'])))"
   ]
  },
  {
   "cell_type": "code",
   "execution_count": 84,
   "metadata": {},
   "outputs": [
    {
     "name": "stdout",
     "output_type": "stream",
     "text": [
      "108\n",
      "492\n"
     ]
    }
   ],
   "source": [
    "# check how many proteins were in common between RL and RWR\n",
    "alg_prots = k_results[2]['STRING-400']\n",
    "print(len(set(alg_prots['RL']) & set(alg_prots['SVM'])))\n",
    "print(len(set(alg_prots['RL']) | set(alg_prots['SVM'])))"
   ]
  },
  {
   "cell_type": "markdown",
   "metadata": {},
   "source": [
    "# Compare parameters of a single method\n"
   ]
  },
  {
   "cell_type": "code",
   "execution_count": 54,
   "metadata": {},
   "outputs": [],
   "source": [
    "def plot_dataset_k_results(k_results, algs, write_out_file=True):\n",
    "    datasets = k_results[0].keys()\n",
    "    for dataset in datasets:\n",
    "        f, axes = plt.subplots(ncols=len(k_results), sharey=True)\n",
    "        for i, dataset_alg_prots in enumerate(k_results):\n",
    "            k = k_to_test[i]\n",
    "            ax = axes[i]\n",
    "            alg_prots = dataset_alg_prots[dataset]\n",
    "            overlap_heatmap(alg_prots, order, k, ax=ax)\n",
    "\n",
    "        alg_str = '-'.join(algs) if len(algs) <= 3 else \"%dalgs\" % (len(algs))\n",
    "        plt.suptitle(\"Heatmap of Jaccard Index for %s\" % (dataset), y=1.02)\n",
    "        if write_out_file:\n",
    "            out_file = \"outputs/viz/networks/overlap/%s-%s-jaccard.pdf\" % (dataset, alg_str)\n",
    "            print(out_file)\n",
    "            os.makedirs(os.path.dirname(out_file), exist_ok=True)\n",
    "            plt.savefig(out_file, bbox_inches='tight')\n",
    "            plt.savefig(out_file.replace('.pdf','.svg'), bbox_inches='tight')\n",
    "        plt.show()\n",
    "        plt.close()"
   ]
  },
  {
   "cell_type": "code",
   "execution_count": 49,
   "metadata": {},
   "outputs": [],
   "source": [
    "config_files = [\n",
    "#     \"fss_inputs/config_files/combined/string-tissuenet-lung.yaml\",\n",
    "#     \"fss_inputs/config_files/string-tissuenet-wace2/string.yaml\",\n",
    "    \"fss_inputs/config_files/params-testing/400-cv5-nf5-nr100-ace2.yaml\",\n",
    "]\n",
    "neg_factor = 5\n",
    "# algs = ['genemaniaplus', 'genemania', 'sinksourceplus', 'sinksource', 'svm', 'logistic_regression', 'localplus']\n",
    "# algs = ['genemaniaplus', 'genemania', 'sinksourceplus', 'svm', 'logistic_regression']\n",
    "algs = ['genemaniaplus']\n",
    "k_to_test = [332,1000]"
   ]
  },
  {
   "cell_type": "code",
   "execution_count": 55,
   "metadata": {},
   "outputs": [
    {
     "name": "stdout",
     "output_type": "stream",
     "text": [
      "fss_inputs/config_files/params-testing/400-cv5-nf5-nr100-ace2.yaml\n",
      "{'cross_validation_folds': 5, 'num_pred_to_write': -1, 'num_reps': 100, 'sample_neg_examples_factor': 5, 'palette': 'Set2', 'svg': True, 'postfix': '', 'algs': ['genemaniaplus'], 'cv_seed': None}\n",
      "Loading data for networks/stringv11/400\n",
      "\treading sparse nets from fss_inputs/networks/stringv11/400/sparse-nets/c400-combined_score-sparse-nets.mat\n",
      "\treading node ids file from fss_inputs/networks/stringv11/400/sparse-nets/c400-combined_score-node-ids.txt\n",
      "\treading network_names from fss_inputs/networks/stringv11/400/sparse-nets/c400-combined_score-net-names.txt\n",
      "Reading annotation matrix from fss_inputs/networks/stringv11/400/sparse-anns/combined_score-2020-03-sarscov2-human-ppi-ace2-pos.npz\n",
      "\t18886 nodes, 977789.0 edges\n",
      "1 connected_components; sizes: max: 18886, 75%: 18886, median: 18886, 25%: 18886\n",
      "\t100.00% nodes in the largest cc\n",
      "top 20 connected_components sizes:\n",
      "18886\n",
      "329/329 (100.00%) pos prots are in the largest cc\n",
      "\t18886 prots in universe\n",
      "reading: outputs//networks/stringv11/400/2020-03-sarscov2-human-ppi-ace2//genemaniaplus/pred-scores-a0_01-tol1e-05.txt\n",
      "reading pvals from: outputs/viz/networks/stringv11/400/2020-03-sarscov2-human-ppi-ace2//genemaniaplus/pred-scores-a0_01-tol1e-05-1000rand-10kmeans-pvals.tsv\n",
      "\t1396 prots with pval < 0.05\n",
      "328 of the top 332 prots have pval < 0.05\n",
      "reading: outputs//networks/stringv11/400/2020-03-sarscov2-human-ppi-ace2//genemaniaplus/pred-scores-a0_1-tol1e-05.txt\n",
      "reading pvals from: outputs/viz/networks/stringv11/400/2020-03-sarscov2-human-ppi-ace2//genemaniaplus/pred-scores-a0_1-tol1e-05-1000rand-10kmeans-pvals.tsv\n",
      "\t1335 prots with pval < 0.05\n",
      "329 of the top 332 prots have pval < 0.05\n",
      "reading: outputs//networks/stringv11/400/2020-03-sarscov2-human-ppi-ace2//genemaniaplus/pred-scores-a0_5-tol1e-05.txt\n",
      "reading pvals from: outputs/viz/networks/stringv11/400/2020-03-sarscov2-human-ppi-ace2//genemaniaplus/pred-scores-a0_5-tol1e-05-1000rand-10kmeans-pvals.tsv\n",
      "\t1394 prots with pval < 0.05\n",
      "332 of the top 332 prots have pval < 0.05\n",
      "reading: outputs//networks/stringv11/400/2020-03-sarscov2-human-ppi-ace2//genemaniaplus/pred-scores-a1-tol1e-05.txt\n",
      "reading pvals from: outputs/viz/networks/stringv11/400/2020-03-sarscov2-human-ppi-ace2//genemaniaplus/pred-scores-a1-tol1e-05-1000rand-10kmeans-pvals.tsv\n",
      "\t1440 prots with pval < 0.05\n",
      "332 of the top 332 prots have pval < 0.05\n",
      "reading: outputs//networks/stringv11/400/2020-03-sarscov2-human-ppi-ace2//genemaniaplus/pred-scores-a2-tol1e-05.txt\n",
      "reading pvals from: outputs/viz/networks/stringv11/400/2020-03-sarscov2-human-ppi-ace2//genemaniaplus/pred-scores-a2-tol1e-05-1000rand-10kmeans-pvals.tsv\n",
      "\t1560 prots with pval < 0.05\n",
      "332 of the top 332 prots have pval < 0.05\n",
      "reading: outputs//networks/stringv11/400/2020-03-sarscov2-human-ppi-ace2//genemaniaplus/pred-scores-a10-tol1e-05.txt\n",
      "reading pvals from: outputs/viz/networks/stringv11/400/2020-03-sarscov2-human-ppi-ace2//genemaniaplus/pred-scores-a10-tol1e-05-1000rand-10kmeans-pvals.tsv\n",
      "\t1904 prots with pval < 0.05\n",
      "330 of the top 332 prots have pval < 0.05\n",
      "reading: outputs//networks/stringv11/400/2020-03-sarscov2-human-ppi-ace2//genemaniaplus/pred-scores-a100-tol1e-05.txt\n",
      "reading pvals from: outputs/viz/networks/stringv11/400/2020-03-sarscov2-human-ppi-ace2//genemaniaplus/pred-scores-a100-tol1e-05-1000rand-10kmeans-pvals.tsv\n",
      "\t2871 prots with pval < 0.05\n",
      "332 of the top 332 prots have pval < 0.05\n",
      "1 datasets\n",
      "['RL a0.01', 'RL a0.1', 'RL a0.5', 'RL a1', 'RL a2', 'RL a10', 'RL a100']\n",
      "fss_inputs/config_files/params-testing/400-cv5-nf5-nr100-ace2.yaml\n",
      "{'cross_validation_folds': 5, 'num_pred_to_write': -1, 'num_reps': 100, 'sample_neg_examples_factor': 5, 'palette': 'Set2', 'svg': True, 'postfix': '', 'algs': ['genemaniaplus'], 'cv_seed': None}\n",
      "Loading data for networks/stringv11/400\n",
      "\treading sparse nets from fss_inputs/networks/stringv11/400/sparse-nets/c400-combined_score-sparse-nets.mat\n",
      "\treading node ids file from fss_inputs/networks/stringv11/400/sparse-nets/c400-combined_score-node-ids.txt\n",
      "\treading network_names from fss_inputs/networks/stringv11/400/sparse-nets/c400-combined_score-net-names.txt\n",
      "Reading annotation matrix from fss_inputs/networks/stringv11/400/sparse-anns/combined_score-2020-03-sarscov2-human-ppi-ace2-pos.npz\n",
      "\t18886 nodes, 977789.0 edges\n",
      "1 connected_components; sizes: max: 18886, 75%: 18886, median: 18886, 25%: 18886\n",
      "\t100.00% nodes in the largest cc\n",
      "top 20 connected_components sizes:\n",
      "18886\n",
      "329/329 (100.00%) pos prots are in the largest cc\n",
      "\t18886 prots in universe\n",
      "reading: outputs//networks/stringv11/400/2020-03-sarscov2-human-ppi-ace2//genemaniaplus/pred-scores-a0_01-tol1e-05.txt\n",
      "reading pvals from: outputs/viz/networks/stringv11/400/2020-03-sarscov2-human-ppi-ace2//genemaniaplus/pred-scores-a0_01-tol1e-05-1000rand-10kmeans-pvals.tsv\n",
      "\t1396 prots with pval < 0.05\n",
      "874 of the top 1000 prots have pval < 0.05\n",
      "reading: outputs//networks/stringv11/400/2020-03-sarscov2-human-ppi-ace2//genemaniaplus/pred-scores-a0_1-tol1e-05.txt\n",
      "reading pvals from: outputs/viz/networks/stringv11/400/2020-03-sarscov2-human-ppi-ace2//genemaniaplus/pred-scores-a0_1-tol1e-05-1000rand-10kmeans-pvals.tsv\n",
      "\t1335 prots with pval < 0.05\n",
      "882 of the top 1000 prots have pval < 0.05\n",
      "reading: outputs//networks/stringv11/400/2020-03-sarscov2-human-ppi-ace2//genemaniaplus/pred-scores-a0_5-tol1e-05.txt\n",
      "reading pvals from: outputs/viz/networks/stringv11/400/2020-03-sarscov2-human-ppi-ace2//genemaniaplus/pred-scores-a0_5-tol1e-05-1000rand-10kmeans-pvals.tsv\n",
      "\t1394 prots with pval < 0.05\n",
      "953 of the top 1000 prots have pval < 0.05\n",
      "reading: outputs//networks/stringv11/400/2020-03-sarscov2-human-ppi-ace2//genemaniaplus/pred-scores-a1-tol1e-05.txt\n",
      "reading pvals from: outputs/viz/networks/stringv11/400/2020-03-sarscov2-human-ppi-ace2//genemaniaplus/pred-scores-a1-tol1e-05-1000rand-10kmeans-pvals.tsv\n",
      "\t1440 prots with pval < 0.05\n",
      "965 of the top 1000 prots have pval < 0.05\n",
      "reading: outputs//networks/stringv11/400/2020-03-sarscov2-human-ppi-ace2//genemaniaplus/pred-scores-a2-tol1e-05.txt\n",
      "reading pvals from: outputs/viz/networks/stringv11/400/2020-03-sarscov2-human-ppi-ace2//genemaniaplus/pred-scores-a2-tol1e-05-1000rand-10kmeans-pvals.tsv\n",
      "\t1560 prots with pval < 0.05\n",
      "992 of the top 1000 prots have pval < 0.05\n",
      "reading: outputs//networks/stringv11/400/2020-03-sarscov2-human-ppi-ace2//genemaniaplus/pred-scores-a10-tol1e-05.txt\n",
      "reading pvals from: outputs/viz/networks/stringv11/400/2020-03-sarscov2-human-ppi-ace2//genemaniaplus/pred-scores-a10-tol1e-05-1000rand-10kmeans-pvals.tsv\n",
      "\t1904 prots with pval < 0.05\n",
      "983 of the top 1000 prots have pval < 0.05\n",
      "reading: outputs//networks/stringv11/400/2020-03-sarscov2-human-ppi-ace2//genemaniaplus/pred-scores-a100-tol1e-05.txt\n",
      "reading pvals from: outputs/viz/networks/stringv11/400/2020-03-sarscov2-human-ppi-ace2//genemaniaplus/pred-scores-a100-tol1e-05-1000rand-10kmeans-pvals.tsv\n",
      "\t2871 prots with pval < 0.05\n",
      "999 of the top 1000 prots have pval < 0.05\n",
      "1 datasets\n",
      "['RL a0.01', 'RL a0.1', 'RL a0.5', 'RL a1', 'RL a2', 'RL a10', 'RL a100']\n",
      "          RL a0.01   RL a0.1   RL a0.5     RL a1    RL a10   RL a100     RL a2\n",
      "RL a0.01  1.000000  0.947214  0.804348  0.729167  0.492135  0.452954  0.627451\n",
      "RL a0.1   0.947214  1.000000  0.849582  0.770667  0.522936  0.478842  0.664160\n",
      "RL a0.5   0.804348  0.849582  1.000000  0.902579  0.611650  0.555035  0.780161\n",
      "RL a1     0.729167  0.770667  0.902579  1.000000  0.672544  0.607748  0.865169\n",
      "RL a10    0.492135  0.522936  0.611650  0.672544  1.000000  0.881020  0.770667\n",
      "          RL a0.01   RL a0.1   RL a0.5     RL a1    RL a10   RL a100     RL a2\n",
      "RL a0.01  1.000000  0.895735  0.848429  0.788909  0.607717  0.536098  0.727116\n",
      "RL a0.1   0.895735  1.000000  0.863933  0.801802  0.626016  0.550388  0.745201\n",
      "RL a0.5   0.848429  0.863933  1.000000  0.883239  0.687764  0.607717  0.819836\n",
      "RL a1     0.788909  0.801802  0.883239  1.000000  0.749781  0.658375  0.890359\n",
      "RL a10    0.607717  0.626016  0.687764  0.749781  1.000000  0.865672  0.821494\n",
      "outputs/viz/networks/overlap/STRING-400-genemaniaplus-jaccard.pdf\n"
     ]
    },
    {
     "data": {
      "image/png": "[encoded data removed]",
      "text/plain": [
       "<Figure size 432x288 with 3 Axes>"
      ]
     },
     "metadata": {
      "needs_background": "light"
     },
     "output_type": "display_data"
    }
   ],
   "source": [
    "rename_alg_params = {\n",
    "    \"-tol1e-05\":\"\", \"-tol1e-04\":\"\", \"-rep100-nf5\":\"\",\"-l2\":\"\", \"-maxi1000\":\"\",\"-maxi100\":\"\", \"-eps0\": \"\",\n",
    "    \"-a\": \" a\", \"-C\":\" C\", \"-l\":\" l\", \"_\": \".\"}\n",
    "for alg in algs:\n",
    "    k_results = []\n",
    "    for k in k_to_test:\n",
    "        all_dataset_prots = {}\n",
    "        order = []\n",
    "        for config_file in config_files:\n",
    "            print(config_file)\n",
    "            config_map = plot_utils.load_config_file(config_file)\n",
    "            kwargs = {}\n",
    "            input_settings, alg_settings, output_settings, out_pref, kwargs = plot_utils.setup_variables(\n",
    "                    config_map, '', **kwargs)\n",
    "            # set additional options here\n",
    "            kwargs['algs'] = [alg]\n",
    "            kwargs['num_reps'] = 100  # load all 100 repetitions of negative sampling and CV\n",
    "            kwargs['cross_validation_folds'] = 5\n",
    "            kwargs['cv_seed'] = None\n",
    "            kwargs['sample_neg_examples_factor'] = neg_factor\n",
    "            print(kwargs)\n",
    "\n",
    "            dataset_alg_prots, curr_order = load_all_pred(\n",
    "                input_settings, output_settings['output_dir'], alg_settings, k=k, use_alg_plot_name=False, **kwargs)\n",
    "            \n",
    "            # change the parameters that are included in the output string\n",
    "            new_dataset_alg_prots = defaultdict(dict)\n",
    "            new_curr_order = []\n",
    "            for d in dataset_alg_prots:\n",
    "                for curr_alg in curr_order:\n",
    "                    new_alg = curr_alg\n",
    "                    for p1, p2 in rename_alg_params.items():\n",
    "                        new_alg = new_alg.replace(p1,p2)\n",
    "                    new_dataset_alg_prots[d][new_alg] = dataset_alg_prots[d][curr_alg]\n",
    "                    new_curr_order.append(new_alg)\n",
    "            dataset_alg_prots = new_dataset_alg_prots\n",
    "            curr_order = new_curr_order\n",
    "            \n",
    "            all_dataset_prots.update(dataset_alg_prots)\n",
    "            order += curr_order\n",
    "            print(\"%d datasets\" % (len(dataset_alg_prots)))\n",
    "            print(order)\n",
    "        #     title = set_title(**kwargs)\n",
    "        #     print(title)\n",
    "        #     order = pointplot(df_all, out_file=out_file, order=order)\n",
    "        k_results.append(dataset_alg_prots)\n",
    "    order = order[:len(curr_order)]\n",
    "    plot_dataset_k_results(k_results, [alg], write_out_file=True)\n",
    "#     break"
   ]
  },
  {
   "cell_type": "markdown",
   "metadata": {},
   "source": [
    "## Now measure the spearman's correlation of both the ranks and the scores between methods"
   ]
  },
  {
   "cell_type": "code",
   "execution_count": 17,
   "metadata": {},
   "outputs": [],
   "source": [
    "from scipy.stats import spearmanr"
   ]
  },
  {
   "cell_type": "code",
   "execution_count": 18,
   "metadata": {},
   "outputs": [],
   "source": [
    "# manually change the order of the heatmap to match the clustergrid output\n",
    "# algs = ['genemaniaplus', 'genemania', 'sinksourceplus', 'sinksource', 'svm', 'logistic_regression', 'localplus']\n",
    "algs = ['localplus', 'rl', 'rwr', 'sinksourceplus', 'svm', 'deepnf', 'logistic_regression', 'genemania']"
   ]
  },
  {
   "cell_type": "code",
   "execution_count": 43,
   "metadata": {},
   "outputs": [
    {
     "name": "stdout",
     "output_type": "stream",
     "text": [
      "ann_pred_inputs/config_files/stringv11/string-combined-and-deepnf.yaml\n",
      "Loading data for networks/stringv11/400\n",
      "\treading sparse nets from ann_pred_inputs/networks/stringv11/400/sparse-nets/c400-combined_score-sparse-nets.mat\n",
      "\treading node ids file from ann_pred_inputs/networks/stringv11/400/sparse-nets/c400-combined_score-node-ids.txt\n",
      "\treading network_names from ann_pred_inputs/networks/stringv11/400/sparse-nets/c400-combined_score-net-names.txt\n",
      "Reading annotation matrix from ann_pred_inputs/networks/stringv11/400/sparse-anns/combined_score-2020-03-sarscov2-human-ppi-ace2-pos.npz\n",
      "\t18886 nodes, 977789.0 edges\n",
      "1 connected_components; sizes: max: 18886, 75%: 18886, median: 18886, 25%: 18886\n",
      "\t100.00% nodes in the largest cc\n",
      "top 20 connected_components sizes:\n",
      "18886\n",
      "329/329 (100.00%) pos prots are in the largest cc\n",
      "\t18886 prots in universe\n",
      "reading: outputs//networks/stringv11/400/2020-03-sarscov2-human-ppi-ace2//localplus/pred-scores-l0.txt\n",
      "reading: outputs//networks/stringv11/400/2020-03-sarscov2-human-ppi-ace2//rl/pred-scores-rep100-nf5-a3_4-tol1e-05.txt\n",
      "reading: outputs//networks/stringv11/400/2020-03-sarscov2-human-ppi-ace2//rwr/pred-scores-rep100-nf5-a0_5.txt\n",
      "reading: outputs//networks/stringv11/400/2020-03-sarscov2-human-ppi-ace2//sinksourceplus/pred-scores-l100-a1_0-eps0-maxi1000.txt\n",
      "reading: outputs//networks/stringv11/400/2020-03-sarscov2-human-ppi-ace2//svm/pred-scores-rep100-nf5-l2-C1-tol1e-04-maxi1000.txt\n",
      "Warning: outputs//networks/stringv11/400/2020-03-sarscov2-human-ppi-ace2//deepnf/pred-scoresdims2500-1200-2500-ep80-bs64-nf0_5-C0_1.txt not found. skipping\n",
      "reading: outputs//networks/stringv11/400/2020-03-sarscov2-human-ppi-ace2//logistic_regression/pred-scores-rep100-nf5-l2-C1-tol1e-04-maxi100.txt\n",
      "reading: outputs//networks/stringv11/400/2020-03-sarscov2-human-ppi-ace2//genemania/pred-scores-rep100-nf5-a0_1-tol1e-05.txt\n",
      "Loading data for networks/stringv11/400\n",
      "\treading sparse nets from ann_pred_inputs/networks/stringv11/400/sparse-nets/c400-string13-sparse-nets.mat\n",
      "\treading node ids file from ann_pred_inputs/networks/stringv11/400/sparse-nets/c400-string13-node-ids.txt\n",
      "\treading network_names from ann_pred_inputs/networks/stringv11/400/sparse-nets/c400-string13-net-names.txt\n",
      "\tnormalizing the networks\n",
      "\treading sparse nets from ann_pred_inputs/networks/stringv11/400/sparse-nets/c400-combined_score-sparse-nets.mat\n",
      "\treading node ids file from ann_pred_inputs/networks/stringv11/400/sparse-nets/c400-combined_score-node-ids.txt\n",
      "\treading network_names from ann_pred_inputs/networks/stringv11/400/sparse-nets/c400-combined_score-net-names.txt\n",
      "Reading annotation matrix from ann_pred_inputs/networks/stringv11/400/sparse-anns/combined_score-2020-03-sarscov2-human-ppi-ace2-pos.npz\n",
      "\t18886 prots in universe\n",
      "Warning: outputs//networks/stringv11/400/2020-03-sarscov2-human-ppi-ace2-all//localplus/pred-scores-l0.txt not found. skipping\n",
      "Warning: outputs//networks/stringv11/400/2020-03-sarscov2-human-ppi-ace2-all//rl/pred-scores-rep100-nf5-a3_4-tol1e-05.txt not found. skipping\n",
      "Warning: outputs//networks/stringv11/400/2020-03-sarscov2-human-ppi-ace2-all//rwr/pred-scores-rep100-nf5-a0_5.txt not found. skipping\n",
      "Warning: outputs//networks/stringv11/400/2020-03-sarscov2-human-ppi-ace2-all//sinksourceplus/pred-scores-l100-a1_0-eps0-maxi1000.txt not found. skipping\n",
      "Warning: outputs//networks/stringv11/400/2020-03-sarscov2-human-ppi-ace2-all//svm/pred-scores-rep100-nf5-l2-C1-tol1e-04-maxi1000.txt not found. skipping\n",
      "reading: outputs//networks/stringv11/400/2020-03-sarscov2-human-ppi-ace2-all//deepnf/pred-scoresdims2500-1200-2500-ep80-bs64-nf0_5-C0_1.txt\n",
      "Warning: outputs//networks/stringv11/400/2020-03-sarscov2-human-ppi-ace2-all//logistic_regression/pred-scores-rep100-nf5-l2-C1-tol1e-04-maxi100.txt not found. skipping\n",
      "Warning: outputs//networks/stringv11/400/2020-03-sarscov2-human-ppi-ace2-all//genemania/pred-scores-rep100-nf5-a0_1-tol1e-05.txt not found. skipping\n"
     ]
    }
   ],
   "source": [
    "for config_file in config_files:\n",
    "    print(config_file)\n",
    "    config_map = plot_utils.load_config_file(config_file)\n",
    "    kwargs = {}\n",
    "    input_settings, alg_settings, output_settings, out_pref, kwargs = plot_utils.setup_variables(\n",
    "            config_map, '', **kwargs)\n",
    "    # set additional options here\n",
    "    kwargs['algs'] = algs\n",
    "    kwargs['num_reps'] = 100  # load all 100 repetitions of negative sampling and CV\n",
    "    kwargs['sample_neg_examples_factor'] = neg_factor\n",
    "\n",
    "    df_all = load_all_pred_scores(\n",
    "        input_settings, output_settings['output_dir'], alg_settings, k=None, use_alg_plot_name=True, **kwargs)"
   ]
  },
  {
   "cell_type": "code",
   "execution_count": 44,
   "metadata": {},
   "outputs": [
    {
     "name": "stdout",
     "output_type": "stream",
     "text": [
      "['Local' 'RL' 'RWR' 'SS' 'SVM' 'LogReg' 'GM' 'deepNF']\n"
     ]
    },
    {
     "data": {
      "text/html": [
       "<div>\n",
       "<style scoped>\n",
       "    .dataframe tbody tr th:only-of-type {\n",
       "        vertical-align: middle;\n",
       "    }\n",
       "\n",
       "    .dataframe tbody tr th {\n",
       "        vertical-align: top;\n",
       "    }\n",
       "\n",
       "    .dataframe thead th {\n",
       "        text-align: right;\n",
       "    }\n",
       "</style>\n",
       "<table border=\"1\" class=\"dataframe\">\n",
       "  <thead>\n",
       "    <tr style=\"text-align: right;\">\n",
       "      <th></th>\n",
       "      <th>Local</th>\n",
       "      <th>RL</th>\n",
       "      <th>RWR</th>\n",
       "      <th>SS</th>\n",
       "      <th>SVM</th>\n",
       "      <th>LogReg</th>\n",
       "      <th>GM</th>\n",
       "      <th>deepNF</th>\n",
       "    </tr>\n",
       "  </thead>\n",
       "  <tbody>\n",
       "    <tr>\n",
       "      <th>Local</th>\n",
       "      <td>1.000000</td>\n",
       "      <td>0.566331</td>\n",
       "      <td>0.643700</td>\n",
       "      <td>0.212970</td>\n",
       "      <td>0.309546</td>\n",
       "      <td>0.089051</td>\n",
       "      <td>0.067152</td>\n",
       "      <td>0.285314</td>\n",
       "    </tr>\n",
       "    <tr>\n",
       "      <th>RL</th>\n",
       "      <td>0.566331</td>\n",
       "      <td>1.000000</td>\n",
       "      <td>0.945829</td>\n",
       "      <td>0.772185</td>\n",
       "      <td>0.566513</td>\n",
       "      <td>0.146528</td>\n",
       "      <td>0.081119</td>\n",
       "      <td>0.543594</td>\n",
       "    </tr>\n",
       "    <tr>\n",
       "      <th>RWR</th>\n",
       "      <td>0.643700</td>\n",
       "      <td>0.945829</td>\n",
       "      <td>1.000000</td>\n",
       "      <td>0.871996</td>\n",
       "      <td>0.502244</td>\n",
       "      <td>0.135622</td>\n",
       "      <td>0.087169</td>\n",
       "      <td>0.517140</td>\n",
       "    </tr>\n",
       "    <tr>\n",
       "      <th>SS</th>\n",
       "      <td>0.212970</td>\n",
       "      <td>0.772185</td>\n",
       "      <td>0.871996</td>\n",
       "      <td>1.000000</td>\n",
       "      <td>0.413226</td>\n",
       "      <td>0.117194</td>\n",
       "      <td>0.072003</td>\n",
       "      <td>0.458155</td>\n",
       "    </tr>\n",
       "    <tr>\n",
       "      <th>SVM</th>\n",
       "      <td>0.309546</td>\n",
       "      <td>0.566513</td>\n",
       "      <td>0.502244</td>\n",
       "      <td>0.413226</td>\n",
       "      <td>1.000000</td>\n",
       "      <td>0.139545</td>\n",
       "      <td>0.044406</td>\n",
       "      <td>0.404246</td>\n",
       "    </tr>\n",
       "  </tbody>\n",
       "</table>\n",
       "</div>"
      ],
      "text/plain": [
       "          Local        RL       RWR        SS       SVM    LogReg        GM  \\\n",
       "Local  1.000000  0.566331  0.643700  0.212970  0.309546  0.089051  0.067152   \n",
       "RL     0.566331  1.000000  0.945829  0.772185  0.566513  0.146528  0.081119   \n",
       "RWR    0.643700  0.945829  1.000000  0.871996  0.502244  0.135622  0.087169   \n",
       "SS     0.212970  0.772185  0.871996  1.000000  0.413226  0.117194  0.072003   \n",
       "SVM    0.309546  0.566513  0.502244  0.413226  1.000000  0.139545  0.044406   \n",
       "\n",
       "         deepNF  \n",
       "Local  0.285314  \n",
       "RL     0.543594  \n",
       "RWR    0.517140  \n",
       "SS     0.458155  \n",
       "SVM    0.404246  "
      ]
     },
     "execution_count": 44,
     "metadata": {},
     "output_type": "execute_result"
    }
   ],
   "source": [
    "def pred_score_spearman(df_all, order=None, verbose=False):\n",
    "    df = df_all.reset_index()\n",
    "    df.rename(columns={'index': 'Rank', 'score': 'Score'}, inplace=True)\n",
    "    df = df.pivot(index=\"prot\", columns=\"Algorithm\", values=\"Score\")\n",
    "    # compute the spearman correlation between each dataset\n",
    "    overlaps = defaultdict(dict)\n",
    "    if order is None:\n",
    "        order = df_all['Algorithm'].unique()\n",
    "        print(order)\n",
    "    for i, a1 in enumerate(order):\n",
    "        for j, a2 in enumerate(order):\n",
    "#             if i >= j:\n",
    "#                 continue\n",
    "            if i == j:\n",
    "                overlaps[a1][a2] = 1\n",
    "                continue\n",
    "            curr_df = df.sort_values(a1, ascending=False)[[a1, a2]].dropna()\n",
    "    #         df2.sort_values('Score', ascending=False, inplace=True)\n",
    "    #         print(curr_df.head())\n",
    "    #         print(df2.head())\n",
    "            correlation, pvalue = spearmanr(curr_df[a1], curr_df[a2])\n",
    "#             print(a1, a2, correlation, pvalue, len(curr_df))\n",
    "            overlaps[a1][a2] = correlation\n",
    "    df = pd.DataFrame(overlaps)\n",
    "#     print(df.head())\n",
    "    df = df[order]\n",
    "    df = df.T[order].T\n",
    "    if verbose:\n",
    "        print(df.head())\n",
    "    return df\n",
    "df = pred_score_spearman(df_all)\n",
    "df.head()"
   ]
  },
  {
   "cell_type": "code",
   "execution_count": 45,
   "metadata": {},
   "outputs": [
    {
     "name": "stdout",
     "output_type": "stream",
     "text": [
      "['Local' 'RL' 'RWR' 'SS' 'SVM' 'LogReg' 'GM' 'deepNF']\n"
     ]
    },
    {
     "data": {
      "image/png": "[encoded data removed]",
      "text/plain": [
       "<Figure size 288x288 with 2 Axes>"
      ]
     },
     "metadata": {
      "needs_background": "light"
     },
     "output_type": "display_data"
    }
   ],
   "source": [
    "def plot_heatmap(df, ax=None, out_file=None, dataset=\"STRING-400\", annot=False):\n",
    "    # now make a heatmap of all the datasets\n",
    "    if ax is None:\n",
    "#         f, ax = plt.subplots(figsize=(6,6))\n",
    "        f, ax = plt.subplots(figsize=(4,4))\n",
    "#     cbar = True if k == k_to_test[-1] else False\n",
    "    if annot:\n",
    "        ax = sns.heatmap(data=(df*100).astype(int), cmap=\"RdPu\", annot=True, fmt='d', ax=ax)\n",
    "    else:\n",
    "        ax = sns.heatmap(data=df, cmap=\"RdPu\", ax=ax)\n",
    "#     ax.set_title(\"STRING - Spearman Correlation\")\n",
    "    ax.set_title(\"Heatmap of Spearman Correlation\")\n",
    "    plt.yticks(rotation=0)\n",
    "    if out_file is not None:\n",
    "        alg_str = \"%dalgs\" % (len(df.columns))\n",
    "        if annot:\n",
    "            out_file = \"outputs/viz/networks/overlap/%s-%s-spearman-annot.pdf\" % (dataset, alg_str)\n",
    "        else:\n",
    "            out_file = \"outputs/viz/networks/overlap/%s-%s-spearman.pdf\" % (dataset, alg_str)\n",
    "        print(out_file)\n",
    "        os.makedirs(os.path.dirname(out_file), exist_ok=True)\n",
    "        plt.savefig(out_file, bbox_inches='tight')\n",
    "        plt.savefig(out_file.replace('.pdf','.svg'), bbox_inches='tight')\n",
    "        # also write the values to a file\n",
    "        df.to_csv(out_file.replace('.pdf','.csv'))\n",
    "    return ax\n",
    "df = pred_score_spearman(df_all)\n",
    "ax = plot_heatmap(df, annot=True)"
   ]
  },
  {
   "cell_type": "code",
   "execution_count": 58,
   "metadata": {},
   "outputs": [
    {
     "name": "stdout",
     "output_type": "stream",
     "text": [
      "outputs/viz/networks/overlap/STRING-400-8algs-spearman-annot.pdf\n"
     ]
    },
    {
     "data": {
      "image/png": "[encoded data removed]",
      "text/plain": [
       "<Figure size 288x288 with 2 Axes>"
      ]
     },
     "metadata": {
      "needs_background": "light"
     },
     "output_type": "display_data"
    }
   ],
   "source": [
    "df = pred_score_spearman(df_all, order=['RL', 'RWR', 'SS', 'deepNF', 'SVM', 'Local', 'LogReg', 'GM'])\n",
    "# ax = plot_heatmap(df, out_file=True, annot=True)\n",
    "ax = plot_heatmap(df, out_file=True, annot=True)\n",
    "# ax = plot_heatmap(df)\n"
   ]
  },
  {
   "cell_type": "code",
   "execution_count": 54,
   "metadata": {},
   "outputs": [
    {
     "data": {
      "text/plain": [
       "<seaborn.matrix.ClusterGrid at 0x7f74b5e2d950>"
      ]
     },
     "execution_count": 54,
     "metadata": {},
     "output_type": "execute_result"
    },
    {
     "data": {
      "image/png": "[encoded data removed]",
      "text/plain": [
       "<Figure size 720x720 with 4 Axes>"
      ]
     },
     "metadata": {
      "needs_background": "light"
     },
     "output_type": "display_data"
    }
   ],
   "source": [
    "sns.clustermap(data=df, method=\"ward\", cmap=\"RdPu\")\n",
    "# ax = sns.heatmap(data=df, cmap=\"YlGnBu\", ax=ax)\n",
    "#     ax.set_title(\"STRING - Spearman Correlation\")"
   ]
  },
  {
   "cell_type": "code",
   "execution_count": 226,
   "metadata": {},
   "outputs": [
    {
     "ename": "KeyError",
     "evalue": "'Algorithm'",
     "output_type": "error",
     "traceback": [
      "\u001b[0;31m---------------------------------------------------------------------------\u001b[0m",
      "\u001b[0;31mKeyError\u001b[0m                                  Traceback (most recent call last)",
      "\u001b[0;32m<ipython-input-226-abdffc88dd74>\u001b[0m in \u001b[0;36m<module>\u001b[0;34m\u001b[0m\n\u001b[0;32m----> 1\u001b[0;31m \u001b[0;32mfor\u001b[0m \u001b[0mi\u001b[0m\u001b[0;34m,\u001b[0m \u001b[0;34m(\u001b[0m\u001b[0ma1\u001b[0m\u001b[0;34m,\u001b[0m \u001b[0mdf1\u001b[0m\u001b[0;34m)\u001b[0m \u001b[0;32min\u001b[0m \u001b[0menumerate\u001b[0m\u001b[0;34m(\u001b[0m\u001b[0mdf\u001b[0m\u001b[0;34m.\u001b[0m\u001b[0mgroupby\u001b[0m\u001b[0;34m(\u001b[0m\u001b[0;34m\"Algorithm\"\u001b[0m\u001b[0;34m)\u001b[0m\u001b[0;34m)\u001b[0m\u001b[0;34m:\u001b[0m\u001b[0;34m\u001b[0m\u001b[0;34m\u001b[0m\u001b[0m\n\u001b[0m\u001b[1;32m      2\u001b[0m     \u001b[0;32mfor\u001b[0m \u001b[0mj\u001b[0m\u001b[0;34m,\u001b[0m \u001b[0;34m(\u001b[0m\u001b[0ma2\u001b[0m\u001b[0;34m,\u001b[0m \u001b[0mdf2\u001b[0m\u001b[0;34m)\u001b[0m \u001b[0;32min\u001b[0m \u001b[0menumerate\u001b[0m\u001b[0;34m(\u001b[0m\u001b[0mdf\u001b[0m\u001b[0;34m.\u001b[0m\u001b[0mgroupby\u001b[0m\u001b[0;34m(\u001b[0m\u001b[0;34m\"Algorithm\"\u001b[0m\u001b[0;34m)\u001b[0m\u001b[0;34m)\u001b[0m\u001b[0;34m:\u001b[0m\u001b[0;34m\u001b[0m\u001b[0;34m\u001b[0m\u001b[0m\n\u001b[1;32m      3\u001b[0m         \u001b[0;32mif\u001b[0m \u001b[0mi\u001b[0m \u001b[0;34m<=\u001b[0m \u001b[0mj\u001b[0m\u001b[0;34m:\u001b[0m\u001b[0;34m\u001b[0m\u001b[0;34m\u001b[0m\u001b[0m\n\u001b[1;32m      4\u001b[0m             \u001b[0;32mcontinue\u001b[0m\u001b[0;34m\u001b[0m\u001b[0;34m\u001b[0m\u001b[0m\n\u001b[1;32m      5\u001b[0m         \u001b[0mdf1\u001b[0m\u001b[0;34m.\u001b[0m\u001b[0msort_values\u001b[0m\u001b[0;34m(\u001b[0m\u001b[0;34m'Score'\u001b[0m\u001b[0;34m,\u001b[0m \u001b[0mascending\u001b[0m\u001b[0;34m=\u001b[0m\u001b[0;32mFalse\u001b[0m\u001b[0;34m,\u001b[0m \u001b[0minplace\u001b[0m\u001b[0;34m=\u001b[0m\u001b[0;32mTrue\u001b[0m\u001b[0;34m)\u001b[0m\u001b[0;34m\u001b[0m\u001b[0;34m\u001b[0m\u001b[0m\n",
      "\u001b[0;32m/data/jeff-law/tools/anaconda3/envs/covid19/lib/python3.7/site-packages/pandas/core/frame.py\u001b[0m in \u001b[0;36mgroupby\u001b[0;34m(self, by, axis, level, as_index, sort, group_keys, squeeze, observed)\u001b[0m\n\u001b[1;32m   5808\u001b[0m             \u001b[0mgroup_keys\u001b[0m\u001b[0;34m=\u001b[0m\u001b[0mgroup_keys\u001b[0m\u001b[0;34m,\u001b[0m\u001b[0;34m\u001b[0m\u001b[0;34m\u001b[0m\u001b[0m\n\u001b[1;32m   5809\u001b[0m             \u001b[0msqueeze\u001b[0m\u001b[0;34m=\u001b[0m\u001b[0msqueeze\u001b[0m\u001b[0;34m,\u001b[0m\u001b[0;34m\u001b[0m\u001b[0;34m\u001b[0m\u001b[0m\n\u001b[0;32m-> 5810\u001b[0;31m             \u001b[0mobserved\u001b[0m\u001b[0;34m=\u001b[0m\u001b[0mobserved\u001b[0m\u001b[0;34m,\u001b[0m\u001b[0;34m\u001b[0m\u001b[0;34m\u001b[0m\u001b[0m\n\u001b[0m\u001b[1;32m   5811\u001b[0m         )\n\u001b[1;32m   5812\u001b[0m \u001b[0;34m\u001b[0m\u001b[0m\n",
      "\u001b[0;32m/data/jeff-law/tools/anaconda3/envs/covid19/lib/python3.7/site-packages/pandas/core/groupby/groupby.py\u001b[0m in \u001b[0;36m__init__\u001b[0;34m(self, obj, keys, axis, level, grouper, exclusions, selection, as_index, sort, group_keys, squeeze, observed, mutated)\u001b[0m\n\u001b[1;32m    407\u001b[0m                 \u001b[0msort\u001b[0m\u001b[0;34m=\u001b[0m\u001b[0msort\u001b[0m\u001b[0;34m,\u001b[0m\u001b[0;34m\u001b[0m\u001b[0;34m\u001b[0m\u001b[0m\n\u001b[1;32m    408\u001b[0m                 \u001b[0mobserved\u001b[0m\u001b[0;34m=\u001b[0m\u001b[0mobserved\u001b[0m\u001b[0;34m,\u001b[0m\u001b[0;34m\u001b[0m\u001b[0;34m\u001b[0m\u001b[0m\n\u001b[0;32m--> 409\u001b[0;31m                 \u001b[0mmutated\u001b[0m\u001b[0;34m=\u001b[0m\u001b[0mself\u001b[0m\u001b[0;34m.\u001b[0m\u001b[0mmutated\u001b[0m\u001b[0;34m,\u001b[0m\u001b[0;34m\u001b[0m\u001b[0;34m\u001b[0m\u001b[0m\n\u001b[0m\u001b[1;32m    410\u001b[0m             )\n\u001b[1;32m    411\u001b[0m \u001b[0;34m\u001b[0m\u001b[0m\n",
      "\u001b[0;32m/data/jeff-law/tools/anaconda3/envs/covid19/lib/python3.7/site-packages/pandas/core/groupby/grouper.py\u001b[0m in \u001b[0;36mget_grouper\u001b[0;34m(obj, key, axis, level, sort, observed, mutated, validate)\u001b[0m\n\u001b[1;32m    596\u001b[0m                 \u001b[0min_axis\u001b[0m\u001b[0;34m,\u001b[0m \u001b[0mname\u001b[0m\u001b[0;34m,\u001b[0m \u001b[0mlevel\u001b[0m\u001b[0;34m,\u001b[0m \u001b[0mgpr\u001b[0m \u001b[0;34m=\u001b[0m \u001b[0;32mFalse\u001b[0m\u001b[0;34m,\u001b[0m \u001b[0;32mNone\u001b[0m\u001b[0;34m,\u001b[0m \u001b[0mgpr\u001b[0m\u001b[0;34m,\u001b[0m \u001b[0;32mNone\u001b[0m\u001b[0;34m\u001b[0m\u001b[0;34m\u001b[0m\u001b[0m\n\u001b[1;32m    597\u001b[0m             \u001b[0;32melse\u001b[0m\u001b[0;34m:\u001b[0m\u001b[0;34m\u001b[0m\u001b[0;34m\u001b[0m\u001b[0m\n\u001b[0;32m--> 598\u001b[0;31m                 \u001b[0;32mraise\u001b[0m \u001b[0mKeyError\u001b[0m\u001b[0;34m(\u001b[0m\u001b[0mgpr\u001b[0m\u001b[0;34m)\u001b[0m\u001b[0;34m\u001b[0m\u001b[0;34m\u001b[0m\u001b[0m\n\u001b[0m\u001b[1;32m    599\u001b[0m         \u001b[0;32melif\u001b[0m \u001b[0misinstance\u001b[0m\u001b[0;34m(\u001b[0m\u001b[0mgpr\u001b[0m\u001b[0;34m,\u001b[0m \u001b[0mGrouper\u001b[0m\u001b[0;34m)\u001b[0m \u001b[0;32mand\u001b[0m \u001b[0mgpr\u001b[0m\u001b[0;34m.\u001b[0m\u001b[0mkey\u001b[0m \u001b[0;32mis\u001b[0m \u001b[0;32mnot\u001b[0m \u001b[0;32mNone\u001b[0m\u001b[0;34m:\u001b[0m\u001b[0;34m\u001b[0m\u001b[0;34m\u001b[0m\u001b[0m\n\u001b[1;32m    600\u001b[0m             \u001b[0;31m# Add key to exclusions\u001b[0m\u001b[0;34m\u001b[0m\u001b[0;34m\u001b[0m\u001b[0;34m\u001b[0m\u001b[0m\n",
      "\u001b[0;31mKeyError\u001b[0m: 'Algorithm'"
     ]
    }
   ],
   "source": [
    "for i, (a1, df1) in enumerate(df.groupby(\"Algorithm\")):\n",
    "    for j, (a2, df2) in enumerate(df.groupby(\"Algorithm\")):\n",
    "        if i <= j:\n",
    "            continue\n",
    "        df1.sort_values('Score', ascending=False, inplace=True)\n",
    "        df2.sort_values('Score', ascending=False, inplace=True)\n",
    "        print(df1.head())\n",
    "        print(df2.head())\n",
    "        correlation, pvalue = spearmanr(df1['Rank'], df2['Rank'])\n",
    "        print(a1, a2, correlation, pvalue)"
   ]
  },
  {
   "cell_type": "markdown",
   "metadata": {},
   "source": [
    "# Plot the prediction scores"
   ]
  },
  {
   "cell_type": "code",
   "execution_count": 83,
   "metadata": {},
   "outputs": [],
   "source": [
    "sns.set_style(\"whitegrid\")"
   ]
  },
  {
   "cell_type": "code",
   "execution_count": 146,
   "metadata": {},
   "outputs": [],
   "source": [
    "config_files = [\n",
    "#     \"fss_inputs/config_files/combined/string-tissuenet-lung.yaml\",\n",
    "    \"fss_inputs/config_files/string-tissuenet-wace2/string.yaml\",\n",
    "#     \"fss_inputs/config_files/params-testing/400-cv5-nf5-nr100-ace2.yaml\",\n",
    "]\n",
    "neg_factor = 5\n",
    "# algs = ['genemaniaplus']\n",
    "algs = ['genemaniaplus', 'genemania', 'sinksourceplus', 'sinksource', 'svm', 'logistic_regression', 'localplus']\n",
    "# algs = ['genemaniaplus', 'genemania', 'sinksourceplus', 'svm', 'logistic_regression']\n",
    "k_to_test = [100,200,300]"
   ]
  },
  {
   "cell_type": "code",
   "execution_count": 21,
   "metadata": {},
   "outputs": [],
   "source": [
    "def load_all_pred_scores(input_settings, output_dir, alg_settings, use_alg_plot_name=True, k=100, **kwargs):\n",
    "#     df_all = pd.DataFrame()\n",
    "    order = []\n",
    "#     dataset_alg_prots = defaultdict(dict)\n",
    "    df_all = pd.DataFrame()\n",
    "    # read in the predictions, and test for the statistical significance of overlap \n",
    "    for dataset in input_settings['datasets']:\n",
    "        print(\"Loading data for %s\" % (dataset['net_version']))\n",
    "        base_out_dir = \"%s/enrichment/%s/%s\" % (output_dir, dataset['net_version'], dataset['exp_name'])\n",
    "        # load the network and the positive examples for each term\n",
    "        net_obj, ann_obj, eval_ann_obj = run_eval_algs.setup_dataset(\n",
    "            dataset, input_settings['input_dir'], **kwargs)\n",
    "        prots = net_obj.nodes\n",
    "        prot_universe = set(prots)\n",
    "        print(\"\\t%d prots in universe\" % (len(prot_universe)))\n",
    "        # TODO using this for the SARS-CoV-2 project,\n",
    "        # but this should really be a general purpose script\n",
    "        # and to work on any number of terms \n",
    "        orig_pos_idx, _ = alg_utils.get_term_pos_neg(ann_obj.ann_matrix, 0)\n",
    "        orig_pos = [prots[p] for p in orig_pos_idx]\n",
    "\n",
    "#         # now load the predictions, test at the various k values, and TODO plot\n",
    "#         k_to_test = enrichment.get_k_to_test(dataset, **kwargs)\n",
    "#         print(\"\\ttesting %d k value(s): %s\" % (len(k_to_test), \", \".join([str(k) for k in k_to_test])))\n",
    "\n",
    "        # now load the prediction scores\n",
    "        dataset_name = config_utils.get_dataset_name(dataset)\n",
    "        alg_pred_files = config_utils.get_dataset_alg_prediction_files(\n",
    "            output_dir, dataset, alg_settings, use_alg_plot_name=not use_alg_plot_name, **kwargs)\n",
    "        for alg, pred_file in alg_pred_files.items():\n",
    "            if use_alg_plot_name:\n",
    "                alg = plot_utils.ALG_NAMES.get(alg,alg)\n",
    "            if not os.path.isfile(pred_file):\n",
    "                print(\"Warning: %s not found. skipping\" % (pred_file))\n",
    "                continue\n",
    "            print(\"reading: %s\" % (pred_file))\n",
    "            df = pd.read_csv(pred_file, sep='\\t')\n",
    "            # remove the original positives\n",
    "            df = df[~df['prot'].isin(orig_pos)]\n",
    "            df.reset_index(inplace=True, drop=True)\n",
    "            #df = df[['prot', 'score']]\n",
    "            df.sort_values(by='score', ascending=False, inplace=True)\n",
    "            if k is not None:\n",
    "                df = df.iloc[:k]\n",
    "#                 dataset_alg_prots[dataset_name][alg] = topk_predictions\n",
    "#             else:\n",
    "#                 dataset_alg_prots[dataset_name][alg] = df\n",
    "            df['Algorithm'] = alg\n",
    "#             if alg in ['GM', 'SVM']:\n",
    "#                 # flip the score to plot them\n",
    "#                 # TODO make my own bar plot with fill_between(?)\n",
    "#                 df['score'] = df['score'] - (df['score'].min()*2)\n",
    "# #                 a = -df['score'].max()\n",
    "# #                 b = -df['score'].min()\n",
    "# #                 df['score'] = (b-a)*((df['score'] - -a)/float(-b - -a)) + a\n",
    "            df_all = pd.concat([df_all, df])\n",
    "#             order.append(dataset_name)\n",
    "            order.append(alg)\n",
    "    return df_all"
   ]
  },
  {
   "cell_type": "code",
   "execution_count": 222,
   "metadata": {},
   "outputs": [
    {
     "name": "stdout",
     "output_type": "stream",
     "text": [
      "fss_inputs/config_files/string-tissuenet-wace2/string.yaml\n",
      "{'num_pred_to_write': -1, 'num_reps': 100, 'sample_neg_examples_factor': 5, 'postfix': '', 'algs': ['genemaniaplus', 'genemania', 'sinksourceplus', 'sinksource', 'svm', 'logistic_regression', 'localplus'], 'cross_validation_folds': 5, 'cv_seed': None}\n",
      "Loading data for networks/stringv11/400\n",
      "\treading sparse nets from fss_inputs/networks/stringv11/400/sparse-nets/c400-combined_score-sparse-nets.mat\n",
      "\treading node ids file from fss_inputs/networks/stringv11/400/sparse-nets/c400-combined_score-node-ids.txt\n",
      "\treading network_names from fss_inputs/networks/stringv11/400/sparse-nets/c400-combined_score-net-names.txt\n",
      "Reading annotation matrix from fss_inputs/networks/stringv11/400/sparse-anns/combined_score-2020-03-sarscov2-human-ppi-ace2-pos.npz\n",
      "\t18886 nodes, 977789.0 edges\n",
      "1 connected_components; sizes: max: 18886, 75%: 18886, median: 18886, 25%: 18886\n",
      "\t100.00% nodes in the largest cc\n",
      "top 20 connected_components sizes:\n",
      "18886\n",
      "329/329 (100.00%) pos prots are in the largest cc\n",
      "\t18886 prots in universe\n",
      "reading: outputs//networks/stringv11/400/2020-03-sarscov2-human-ppi-ace2//genemaniaplus/pred-scores-a0_01-tol1e-05.txt\n",
      "reading: outputs//networks/stringv11/400/2020-03-sarscov2-human-ppi-ace2//genemania/pred-scores-rep100-nf5-a0_1-tol1e-05.txt\n",
      "reading: outputs//networks/stringv11/400/2020-03-sarscov2-human-ppi-ace2//sinksourceplus/pred-scores-l100-a1_0-eps0-maxi1000.txt\n",
      "reading: outputs//networks/stringv11/400/2020-03-sarscov2-human-ppi-ace2//sinksource/pred-scores-rep100-nf5-l0-a1_0-eps1e-4-maxi1000.txt\n",
      "reading: outputs//networks/stringv11/400/2020-03-sarscov2-human-ppi-ace2//svm/pred-scores-rep100-nf5-l2-C1-tol1e-04-maxi1000.txt\n",
      "reading: outputs//networks/stringv11/400/2020-03-sarscov2-human-ppi-ace2//logistic_regression/pred-scores-rep100-nf5-l2-C1-tol1e-04-maxi100.txt\n",
      "reading: outputs//networks/stringv11/400/2020-03-sarscov2-human-ppi-ace2//localplus/pred-scores-l0.txt\n"
     ]
    }
   ],
   "source": [
    "all_dataset_prots = {}\n",
    "order = []\n",
    "for config_file in config_files:\n",
    "    print(config_file)\n",
    "    config_map = plot_utils.load_config_file(config_file)\n",
    "    kwargs = {}\n",
    "    input_settings, alg_settings, output_settings, out_pref, kwargs = plot_utils.setup_variables(\n",
    "            config_map, '', **kwargs)\n",
    "    # set additional options here\n",
    "    kwargs['algs'] = algs\n",
    "    kwargs['num_reps'] = 100  # load all 100 repetitions of negative sampling and CV\n",
    "    kwargs['cross_validation_folds'] = 5\n",
    "    kwargs['cv_seed'] = None\n",
    "    kwargs['sample_neg_examples_factor'] = neg_factor\n",
    "    print(kwargs)\n",
    "\n",
    "    df_all = load_all_pred_scores(\n",
    "#         input_settings, output_settings['output_dir'], alg_settings, k=500, use_alg_plot_name=True, **kwargs)\n",
    "        input_settings, output_settings['output_dir'], alg_settings, k=None, use_alg_plot_name=True, **kwargs)\n",
    "\n",
    "#     all_dataset_prots.update(dataset_alg_prots)\n",
    "#     order += curr_order\n",
    "#     print(\"%d datasets\" % (len(dataset_alg_prots)))\n",
    "#     print(order)\n",
    "\n",
    "#     order = order[:len(curr_order)]\n",
    "#     plot_dataset_k_results(k_results, [alg], write_out_file=True)\n",
    "#     for d, alg_prots in dataset_alg_prots.items():    \n",
    "#     plot_pred_scores(df_all)\n",
    "    break"
   ]
  },
  {
   "cell_type": "code",
   "execution_count": 198,
   "metadata": {},
   "outputs": [
    {
     "data": {
      "text/html": [
       "<div>\n",
       "<style scoped>\n",
       "    .dataframe tbody tr th:only-of-type {\n",
       "        vertical-align: middle;\n",
       "    }\n",
       "\n",
       "    .dataframe tbody tr th {\n",
       "        vertical-align: top;\n",
       "    }\n",
       "\n",
       "    .dataframe thead th {\n",
       "        text-align: right;\n",
       "    }\n",
       "</style>\n",
       "<table border=\"1\" class=\"dataframe\">\n",
       "  <thead>\n",
       "    <tr style=\"text-align: right;\">\n",
       "      <th></th>\n",
       "      <th>Rank</th>\n",
       "      <th>#term</th>\n",
       "      <th>prot</th>\n",
       "      <th>Score</th>\n",
       "      <th>Algorithm</th>\n",
       "    </tr>\n",
       "  </thead>\n",
       "  <tbody>\n",
       "    <tr>\n",
       "      <th>0</th>\n",
       "      <td>1</td>\n",
       "      <td>2020-03-sarscov2-human-ppi</td>\n",
       "      <td>Q8NBI6</td>\n",
       "      <td>0.001576</td>\n",
       "      <td>GM+</td>\n",
       "    </tr>\n",
       "    <tr>\n",
       "      <th>1</th>\n",
       "      <td>2</td>\n",
       "      <td>2020-03-sarscov2-human-ppi</td>\n",
       "      <td>Q969Z3</td>\n",
       "      <td>0.001525</td>\n",
       "      <td>GM+</td>\n",
       "    </tr>\n",
       "    <tr>\n",
       "      <th>2</th>\n",
       "      <td>3</td>\n",
       "      <td>2020-03-sarscov2-human-ppi</td>\n",
       "      <td>Q9BVV7</td>\n",
       "      <td>0.001474</td>\n",
       "      <td>GM+</td>\n",
       "    </tr>\n",
       "    <tr>\n",
       "      <th>3</th>\n",
       "      <td>4</td>\n",
       "      <td>2020-03-sarscov2-human-ppi</td>\n",
       "      <td>Q9NY35</td>\n",
       "      <td>0.001440</td>\n",
       "      <td>GM+</td>\n",
       "    </tr>\n",
       "    <tr>\n",
       "      <th>4</th>\n",
       "      <td>5</td>\n",
       "      <td>2020-03-sarscov2-human-ppi</td>\n",
       "      <td>Q9GZP9</td>\n",
       "      <td>0.001401</td>\n",
       "      <td>GM+</td>\n",
       "    </tr>\n",
       "  </tbody>\n",
       "</table>\n",
       "</div>"
      ],
      "text/plain": [
       "   Rank                       #term    prot     Score Algorithm\n",
       "0     1  2020-03-sarscov2-human-ppi  Q8NBI6  0.001576       GM+\n",
       "1     2  2020-03-sarscov2-human-ppi  Q969Z3  0.001525       GM+\n",
       "2     3  2020-03-sarscov2-human-ppi  Q9BVV7  0.001474       GM+\n",
       "3     4  2020-03-sarscov2-human-ppi  Q9NY35  0.001440       GM+\n",
       "4     5  2020-03-sarscov2-human-ppi  Q9GZP9  0.001401       GM+"
      ]
     },
     "execution_count": 198,
     "metadata": {},
     "output_type": "execute_result"
    }
   ],
   "source": [
    "df = df_all.reset_index()\n",
    "df['index'] += 1\n",
    "df.rename(columns={'index': 'Rank', 'score': 'Score'}, inplace=True)\n",
    "df.head()"
   ]
  },
  {
   "cell_type": "code",
   "execution_count": 202,
   "metadata": {},
   "outputs": [
    {
     "name": "stdout",
     "output_type": "stream",
     "text": [
      "outputs/viz/networks/stringv11/400/2020-03-sarscov2-human-ppi-ace2/pred-scores.pdf\n"
     ]
    },
    {
     "data": {
      "image/png": "[encoded data removed]",
      "text/plain": [
       "<Figure size 864x432 with 7 Axes>"
      ]
     },
     "metadata": {},
     "output_type": "display_data"
    }
   ],
   "source": [
    "g = sns.FacetGrid(df, col='Algorithm', col_wrap=4, sharey=False)\n",
    "g = g.map(plt.bar, \"Rank\", \"Score\", width=1, linewidth=0, alpha=0.95).set_titles('{col_name}')\n",
    "for i, ax in enumerate(g.axes.flat):\n",
    "    ax.set_ylim(df[df['Algorithm'] == ax.get_title()]['Score'].min(), ax.get_ylim()[1])\n",
    "    \n",
    "# plt.suptitle()\n",
    "    \n",
    "out_file = \"outputs/viz/networks/stringv11/400/2020-03-sarscov2-human-ppi-ace2/pred-scores.pdf\"\n",
    "print(out_file)\n",
    "plt.savefig(out_file, bbox_inches='tight')\n",
    "plt.savefig(out_file.replace('.pdf','.png'), bbox_inches='tight')"
   ]
  }
 ],
 "metadata": {
  "kernelspec": {
   "display_name": "Python 3",
   "language": "python",
   "name": "python3"
  },
  "language_info": {
   "codemirror_mode": {
    "name": "ipython",
    "version": 3
   },
   "file_extension": ".py",
   "mimetype": "text/x-python",
   "name": "python",
   "nbconvert_exporter": "python",
   "pygments_lexer": "ipython3",
   "version": "3.7.7"
  }
 },
 "nbformat": 4,
 "nbformat_minor": 4
}
