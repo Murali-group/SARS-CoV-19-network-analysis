{
 "cells": [
  {
   "cell_type": "code",
   "execution_count": 1,
   "metadata": {},
   "outputs": [
    {
     "data": {
      "text/plain": [
       "'/data/jeff-law/projects/2020-03-covid-19/SARS-CoV-2-network-analysis'"
      ]
     },
     "execution_count": 1,
     "metadata": {},
     "output_type": "execute_result"
    }
   ],
   "source": [
    "# the rest of the imports require the location to be the base of the repo \n",
    "#   i.e., SARS-CoV-2-network-analysis)\n",
    "# run this first if needed to get to the right directory\n",
    "import os\n",
    "os.chdir('../../')\n",
    "# os.chdir('/data/jeff-law/projects/2020-03-covid-19/SARS-CoV-2-network-analysis')\n",
    "os.getcwd()"
   ]
  },
  {
   "cell_type": "code",
   "execution_count": 2,
   "metadata": {},
   "outputs": [
    {
     "name": "stdout",
     "output_type": "stream",
     "text": [
      "python version: 3.7.7 (default, Mar 13 2020, 13:32:22) \n",
      "matplotlib version: 3.2.1\n",
      "seaborn version: 0.10.0\n",
      "pandas version: 1.0.3\n",
      "numpy version: 1.18.2\n"
     ]
    }
   ],
   "source": [
    "from collections import defaultdict\n",
    "import argparse\n",
    "import os, sys\n",
    "from tqdm import tqdm\n",
    "import itertools\n",
    "#import utils.file_utils as utils\n",
    "# also compute the significance of sinksource vs local\n",
    "#from scipy.stats import kruskal, mannwhitneyu\n",
    "# plotting imports\n",
    "import matplotlib\n",
    "import matplotlib.pyplot as plt\n",
    "import pandas as pd\n",
    "import seaborn as sns\n",
    "import numpy as np\n",
    "print(\"python version: %s\" % (sys.version.split('\\n')[0]))\n",
    "print(\"matplotlib version: %s\" % matplotlib.__version__)\n",
    "print(\"seaborn version: %s\" % sns.__version__)\n",
    "print(\"pandas version: %s\" % pd.__version__)\n",
    "print(\"numpy version: %s\" % (np.__version__))\n",
    "# make this the default for now\n",
    "sns.set_style('darkgrid')\n",
    "sns.set_context('paper', font_scale=1.2)\n",
    "# my local imports\n",
    "# fss_dir = os.path.dirname(os.path.dirname(os.path.dirname(__file__)))\n",
    "# sys.path.insert(0,fss_dir)\n",
    "from src.FastSinkSource.src.plot import plot_utils\n",
    "from src.FastSinkSource.src.algorithms import runner\n",
    "from src.FastSinkSource.src.evaluate import cross_validation as cv\n",
    "\n",
    "\n",
    "%matplotlib inline  "
   ]
  },
  {
   "cell_type": "markdown",
   "metadata": {},
   "source": [
    "# CV Plots\n",
    "\n",
    "Here is some code to generate the CV plots"
   ]
  },
  {
   "cell_type": "code",
   "execution_count": 70,
   "metadata": {},
   "outputs": [
    {
     "name": "stdout",
     "output_type": "stream",
     "text": [
      "fss_inputs/config_files/stringv11-wace2/string-combined-and-deepnf.yaml\n",
      "{'algs': ['genemaniaplus'], 'measures': ['auroc', 'auprc', 'eprec-rec0.3'], 'cross_validation_folds': 5, 'sample_neg_examples_factor': 10, 'num_pred_to_write': -1, 'num_reps': 100, 'postfix': ''}\n",
      "\tnot found outputs//networks/stringv11/400/2020-03-sarscov2-human-ppi-ace2-all/genemaniaplus/cv-5folds-rep100-nf10-gmw-a0_01-tol1e-05-eprec.txt - skipping\n",
      "{'algs': ['genemania'], 'measures': ['auroc', 'auprc', 'eprec-rec0.3'], 'cross_validation_folds': 5, 'sample_neg_examples_factor': 10, 'num_pred_to_write': -1, 'num_reps': 100, 'postfix': ''}\n",
      "\tnot found outputs//networks/stringv11/400/2020-03-sarscov2-human-ppi-ace2-all/genemania/cv-5folds-rep100-nf10-gmw-a0_1-tol1e-05-eprec.txt - skipping\n",
      "{'algs': ['sinksourceplus'], 'measures': ['auroc', 'auprc', 'eprec-rec0.3'], 'cross_validation_folds': 5, 'sample_neg_examples_factor': 10, 'num_pred_to_write': -1, 'num_reps': 100, 'postfix': ''}\n",
      "\tnot found outputs//networks/stringv11/400/2020-03-sarscov2-human-ppi-ace2-all/sinksourceplus/cv-5folds-rep100-nf10-gmw-l100-a1_0-eps0-maxi1000-eprec.txt - skipping\n",
      "{'algs': ['deepnf'], 'measures': ['auroc', 'auprc', 'eprec-rec0.3'], 'cross_validation_folds': 5, 'sample_neg_examples_factor': 10, 'num_pred_to_write': -1, 'num_reps': 100, 'postfix': ''}\n",
      "\tnot found outputs//networks/stringv11/400/2020-03-sarscov2-human-ppi-ace2/deepnf/cv-5folds-rep100-nf10dims2500-1200-2500-ep80-bs64-nf0_5-C0_1-eprec.txt - skipping\n",
      "{'algs': ['svm'], 'measures': ['auroc', 'auprc', 'eprec-rec0.3'], 'cross_validation_folds': 5, 'sample_neg_examples_factor': 10, 'num_pred_to_write': -1, 'num_reps': 100, 'postfix': ''}\n",
      "\tnot found outputs//networks/stringv11/400/2020-03-sarscov2-human-ppi-ace2-all/svm/cv-5folds-rep100-nf10-gmw-l2-C1-tol1e-04-maxi1000-eprec.txt - skipping\n",
      "{'algs': ['logistic_regression'], 'measures': ['auroc', 'auprc', 'eprec-rec0.3'], 'cross_validation_folds': 5, 'sample_neg_examples_factor': 10, 'num_pred_to_write': -1, 'num_reps': 100, 'postfix': ''}\n",
      "\tnot found outputs//networks/stringv11/400/2020-03-sarscov2-human-ppi-ace2-all/logistic_regression/cv-5folds-rep100-nf10-gmw-l2-C1-tol1e-04-maxi100-eprec.txt - skipping\n",
      "{'algs': ['localplus'], 'measures': ['auroc', 'auprc', 'eprec-rec0.3'], 'cross_validation_folds': 5, 'sample_neg_examples_factor': 10, 'num_pred_to_write': -1, 'num_reps': 100, 'postfix': ''}\n",
      "\tnot found outputs//networks/stringv11/400/2020-03-sarscov2-human-ppi-ace2-all/localplus/cv-5folds-rep100-nf10-gmw-l0-eprec.txt - skipping\n",
      "plot_exp_name\tmeasure\talg\tmedian\t# terms\n",
      "STRING-400\tauroc\tGM\t0.729\t100\n",
      "STRING-400\tauroc\tLocal\t0.710\t100\n",
      "STRING-400\tauroc\tLogReg\t0.757\t100\n",
      "STRING-400\tauroc\tRL\t0.760\t100\n",
      "STRING-400\tauroc\tSS\t0.737\t100\n",
      "STRING-400\tauroc\tSVM\t0.768\t100\n",
      "STRING-400\tauprc\tGM\t0.243\t100\n",
      "STRING-400\tauprc\tLocal\t0.170\t100\n",
      "STRING-400\tauprc\tLogReg\t0.239\t100\n",
      "STRING-400\tauprc\tRL\t0.263\t100\n",
      "STRING-400\tauprc\tSS\t0.210\t100\n",
      "STRING-400\tauprc\tSVM\t0.252\t100\n",
      "STRING-400\teprec-rec0.3\tGM\t0.290\t100\n",
      "STRING-400\teprec-rec0.3\tLocal\t0.209\t100\n",
      "STRING-400\teprec-rec0.3\tLogReg\t0.285\t100\n",
      "STRING-400\teprec-rec0.3\tRL\t0.307\t100\n",
      "STRING-400\teprec-rec0.3\tSS\t0.249\t100\n",
      "STRING-400\teprec-rec0.3\tSVM\t0.290\t100\n",
      "STRING-all-400\tauroc\tdeepNF\t0.752\t100\n",
      "STRING-all-400\tauprc\tdeepNF\t0.266\t100\n",
      "STRING-all-400\teprec-rec0.3\tdeepNF\t0.318\t100\n"
     ]
    },
    {
     "data": {
      "text/html": [
       "<div>\n",
       "<style scoped>\n",
       "    .dataframe tbody tr th:only-of-type {\n",
       "        vertical-align: middle;\n",
       "    }\n",
       "\n",
       "    .dataframe tbody tr th {\n",
       "        vertical-align: top;\n",
       "    }\n",
       "\n",
       "    .dataframe thead th {\n",
       "        text-align: right;\n",
       "    }\n",
       "</style>\n",
       "<table border=\"1\" class=\"dataframe\">\n",
       "  <thead>\n",
       "    <tr style=\"text-align: right;\">\n",
       "      <th></th>\n",
       "      <th>Algorithm</th>\n",
       "      <th>plot_exp_name</th>\n",
       "      <th>neg_factor</th>\n",
       "      <th>measure</th>\n",
       "      <th>value</th>\n",
       "      <th>exp_name</th>\n",
       "    </tr>\n",
       "  </thead>\n",
       "  <tbody>\n",
       "    <tr>\n",
       "      <th>0</th>\n",
       "      <td>RL</td>\n",
       "      <td>STRING</td>\n",
       "      <td>10</td>\n",
       "      <td>AUROC</td>\n",
       "      <td>0.7589</td>\n",
       "      <td>AUROC P:N 1:10</td>\n",
       "    </tr>\n",
       "    <tr>\n",
       "      <th>1</th>\n",
       "      <td>RL</td>\n",
       "      <td>STRING</td>\n",
       "      <td>10</td>\n",
       "      <td>AUROC</td>\n",
       "      <td>0.7696</td>\n",
       "      <td>AUROC P:N 1:10</td>\n",
       "    </tr>\n",
       "    <tr>\n",
       "      <th>2</th>\n",
       "      <td>RL</td>\n",
       "      <td>STRING</td>\n",
       "      <td>10</td>\n",
       "      <td>AUROC</td>\n",
       "      <td>0.7593</td>\n",
       "      <td>AUROC P:N 1:10</td>\n",
       "    </tr>\n",
       "    <tr>\n",
       "      <th>3</th>\n",
       "      <td>RL</td>\n",
       "      <td>STRING</td>\n",
       "      <td>10</td>\n",
       "      <td>AUROC</td>\n",
       "      <td>0.7597</td>\n",
       "      <td>AUROC P:N 1:10</td>\n",
       "    </tr>\n",
       "    <tr>\n",
       "      <th>4</th>\n",
       "      <td>RL</td>\n",
       "      <td>STRING</td>\n",
       "      <td>10</td>\n",
       "      <td>AUROC</td>\n",
       "      <td>0.7532</td>\n",
       "      <td>AUROC P:N 1:10</td>\n",
       "    </tr>\n",
       "  </tbody>\n",
       "</table>\n",
       "</div>"
      ],
      "text/plain": [
       "  Algorithm plot_exp_name  neg_factor measure   value        exp_name\n",
       "0        RL        STRING          10   AUROC  0.7589  AUROC P:N 1:10\n",
       "1        RL        STRING          10   AUROC  0.7696  AUROC P:N 1:10\n",
       "2        RL        STRING          10   AUROC  0.7593  AUROC P:N 1:10\n",
       "3        RL        STRING          10   AUROC  0.7597  AUROC P:N 1:10\n",
       "4        RL        STRING          10   AUROC  0.7532  AUROC P:N 1:10"
      ]
     },
     "execution_count": 70,
     "metadata": {},
     "output_type": "execute_result"
    }
   ],
   "source": [
    "config_file = \"fss_inputs/config_files/stringv11-wace2/string-combined-and-deepnf.yaml\"\n",
    "# out_file = \"outputs/viz/params-testing/string-tissuenet-ace2-cv5-nf5-nr100.pdf\"\n",
    "# neg_factor = 1\n",
    "# neg_factor = 5\n",
    "neg_factor = 10\n",
    "postfix = \"-eprec\"\n",
    "out_file = \"outputs/viz/stringv11/400/2020-03-sarscov2-human-ppi-ace2/auroc-auprc-epr-box-nf%s.pdf\" % (neg_factor)\n",
    "os.makedirs(os.path.dirname(out_file), exist_ok=True)\n",
    "# algs = ['genemaniaplus', 'genemania', 'sinksourceplus', 'sinksource', 'svm', 'logistic_regression', 'localplus']\n",
    "algs = ['genemaniaplus', 'genemania', 'sinksourceplus', 'deepnf', 'svm', 'logistic_regression', 'localplus']\n",
    "measures = ['auroc', 'auprc', 'eprec-rec0.3']\n",
    "# algs = ['genemaniaplus', 'genemania']\n",
    "df_all = pd.DataFrame()\n",
    "print(config_file)\n",
    "config_map = plot_utils.load_config_file(config_file)\n",
    "# for neg_factor in [5, 10]:\n",
    "for alg in algs:\n",
    "    kwargs = {'algs': [alg], 'measures': measures, #'ratio_over_random': True,\n",
    "              'cross_validation_folds': 5, 'sample_neg_examples_factor': neg_factor}\n",
    "    input_settings, alg_settings, output_settings, out_pref, kwargs = plot_utils.setup_variables(\n",
    "            config_map, '', **kwargs)\n",
    "    print(kwargs)\n",
    "    kwargs['postfix'] = postfix\n",
    "\n",
    "    df = plot_utils.load_all_results(input_settings, alg_settings, output_settings, **kwargs)\n",
    "#     df.rename(columns={'Algorithm': 'param_val'}, inplace=True)\n",
    "    df['neg_factor'] = neg_factor\n",
    "    df_all = pd.concat([df_all, df])\n",
    "\n",
    "if kwargs.get('ratio_over_random'):\n",
    "    kwargs['measures'] = [m+'-ratio' for m in kwargs['measures']]\n",
    "plot_utils.results_overview(df_all, measures=kwargs['measures'])\n",
    "df_all.head()\n",
    "\n",
    "# rename the measures\n",
    "df_all['plot_exp_name'] = df_all['plot_exp_name'].replace(\"STRING-400\", 'STRING')\n",
    "df_all.drop(columns=['avgp', 'fmax', 'eprec-reck1'], inplace=True)\n",
    "\n",
    "df2 = df_all.melt(id_vars=['Algorithm', 'plot_exp_name', 'neg_factor'], value_vars=kwargs['measures'], var_name='measure')\n",
    "df2['measure'] = df2['measure'].replace(\"fmax-ratio\", r\"F$_{\\mathrm{max}}$\") \\\n",
    "                               .replace('eprec-rec0.3-ratio', \"Early Precision (0.3 Recall)\") \\\n",
    "                               .replace('eprec-rec0.3', \"Early Precision (0.3 Recall)\") \\\n",
    "                               .replace('auprc-ratio', \"AUPRC\") \\\n",
    "                               .replace('auprc', \"AUPRC\") \\\n",
    "                               .replace('auroc', 'AUROC')\n",
    "measures = ['AUROC', 'AUPRC', 'Early Precision (0.3 Recall)']\n",
    "# hue_order = ['']\n",
    "\n",
    "# now combine the name and measure column\n",
    "df2['exp_name'] = df2['measure'] + ' P:N 1:' + df2['neg_factor'].astype(str)\n",
    "# df2.sort_values('exp_name', inplace=True)\n",
    "df2.head()"
   ]
  },
  {
   "cell_type": "markdown",
   "metadata": {},
   "source": [
    "### First plot the neg_factor=1 that goes in the main paper\n"
   ]
  },
  {
   "cell_type": "code",
   "execution_count": 67,
   "metadata": {},
   "outputs": [
    {
     "name": "stdout",
     "output_type": "stream",
     "text": [
      "  Algorithm plot_exp_name  neg_factor measure   value       exp_name\n",
      "0        RL        STRING           1   AUROC  0.7724  AUROC P:N 1:1\n",
      "1        RL        STRING           1   AUROC  0.7855  AUROC P:N 1:1\n",
      "2        RL        STRING           1   AUROC  0.7588  AUROC P:N 1:1\n",
      "3        RL        STRING           1   AUROC  0.7507  AUROC P:N 1:1\n",
      "4        RL        STRING           1   AUROC  0.7417  AUROC P:N 1:1\n",
      "    Algorithm plot_exp_name  neg_factor measure   value       exp_name\n",
      "700        RL        STRING           1   AUPRC  0.7478  AUPRC P:N 1:1\n",
      "701        RL        STRING           1   AUPRC  0.7688  AUPRC P:N 1:1\n",
      "702        RL        STRING           1   AUPRC  0.7531  AUPRC P:N 1:1\n",
      "703        RL        STRING           1   AUPRC  0.7417  AUPRC P:N 1:1\n",
      "704        RL        STRING           1   AUPRC  0.7347  AUPRC P:N 1:1\n",
      "     Algorithm plot_exp_name  neg_factor                       measure  \\\n",
      "1400        RL        STRING           1  Early Precision (0.3 Recall)   \n",
      "1401        RL        STRING           1  Early Precision (0.3 Recall)   \n",
      "1402        RL        STRING           1  Early Precision (0.3 Recall)   \n",
      "1403        RL        STRING           1  Early Precision (0.3 Recall)   \n",
      "1404        RL        STRING           1  Early Precision (0.3 Recall)   \n",
      "\n",
      "       value                              exp_name  \n",
      "1400  0.8390  Early Precision (0.3 Recall) P:N 1:1  \n",
      "1401  0.8761  Early Precision (0.3 Recall) P:N 1:1  \n",
      "1402  0.7920  Early Precision (0.3 Recall) P:N 1:1  \n",
      "1403  0.8462  Early Precision (0.3 Recall) P:N 1:1  \n",
      "1404  0.8534  Early Precision (0.3 Recall) P:N 1:1  \n"
     ]
    },
    {
     "name": "stderr",
     "output_type": "stream",
     "text": [
      "/data/jeff-law/tools/anaconda3/envs/covid19/lib/python3.7/site-packages/ipykernel_launcher.py:7: SettingWithCopyWarning: \n",
      "A value is trying to be set on a copy of a slice from a DataFrame.\n",
      "Try using .loc[row_indexer,col_indexer] = value instead\n",
      "\n",
      "See the caveats in the documentation: https://pandas.pydata.org/pandas-docs/stable/user_guide/indexing.html#returning-a-view-versus-a-copy\n",
      "  import sys\n",
      "/data/jeff-law/tools/anaconda3/envs/covid19/lib/python3.7/site-packages/ipykernel_launcher.py:7: SettingWithCopyWarning: \n",
      "A value is trying to be set on a copy of a slice from a DataFrame.\n",
      "Try using .loc[row_indexer,col_indexer] = value instead\n",
      "\n",
      "See the caveats in the documentation: https://pandas.pydata.org/pandas-docs/stable/user_guide/indexing.html#returning-a-view-versus-a-copy\n",
      "  import sys\n",
      "/data/jeff-law/tools/anaconda3/envs/covid19/lib/python3.7/site-packages/ipykernel_launcher.py:7: SettingWithCopyWarning: \n",
      "A value is trying to be set on a copy of a slice from a DataFrame.\n",
      "Try using .loc[row_indexer,col_indexer] = value instead\n",
      "\n",
      "See the caveats in the documentation: https://pandas.pydata.org/pandas-docs/stable/user_guide/indexing.html#returning-a-view-versus-a-copy\n",
      "  import sys\n"
     ]
    },
    {
     "name": "stdout",
     "output_type": "stream",
     "text": [
      "outputs/viz/stringv11/400/2020-03-sarscov2-human-ppi-ace2/auroc-auprc-epr-box-nf1.pdf\n"
     ]
    },
    {
     "data": {
      "image/png": "[encoded data removed]",
      "text/plain": [
       "<Figure size 864x216 with 3 Axes>"
      ]
     },
     "metadata": {
      "needs_background": "light"
     },
     "output_type": "display_data"
    }
   ],
   "source": [
    "sns.set_context('paper', font_scale=1.0)\n",
    "f, axes = plt.subplots(ncols=len(df2['measure'].unique()), figsize=(12,3))\n",
    "# for i, (ax, (measure, curr_df)) in enumerate(zip(axes, df2.groupby('measure'))):\n",
    "for i, (ax, measure) in enumerate(zip(axes, measures)):\n",
    "    curr_df = df2[df2['measure'] == measure]\n",
    "    print(curr_df.head())\n",
    "    curr_df['P:N Ratio'] = \"1:\" + curr_df['neg_factor'].astype(str)\n",
    "#     print(curr_df[(curr_df['Algorithm'] == 'GM+') & (curr_df['neg_factor'] == 1)].median())\n",
    "#     print(triple_colors[i*3:(i+1)*3])\n",
    "    ax = sns.boxplot(x='Algorithm', y='value', data=curr_df, saturation=1.0,\n",
    "#                     hue='P:N Ratio', \n",
    "                     fliersize=1, ax=ax, palette=\"Set2\")#palette=triple_colors[i*3:(i+1)*3], ax=ax)\n",
    "#     ax = sns.barplot(x='Algorithm', y='value', data=curr_df, saturation=1,\n",
    "#                 hue='neg_factor', ax=ax, palette=\"Set2\")#palette=triple_colors[i*3:(i+1)*3], ax=ax)\n",
    "    \n",
    "#     ax.set_title(measure)\n",
    "    ax.set_ylabel(measure)\n",
    "#     if i != 0:\n",
    "# #         ax.set_ylabel(\"Ratio over Random Predictor\", fontsize=12)\n",
    "# #     else:\n",
    "# #         ax.set_ylabel(\"\")\n",
    "#         ax.get_legend().remove()\n",
    "        \n",
    "    ax.set_ylim(0.48,1.02)\n",
    "    ax.set_xlabel(\"\")\n",
    "    if measure != \"AUROC\":\n",
    "        rand_pred = 1 / float(1 + neg_factor)\n",
    "    else:\n",
    "        rand_pred = 0.5\n",
    "    ax.axhline(rand_pred, color=\"gray\", linestyle=\"--\")\n",
    "\n",
    "plt.tight_layout()\n",
    "print(out_file)\n",
    "plt.savefig(out_file)\n",
    "plt.savefig(out_file.replace('.pdf','.svg'))"
   ]
  },
  {
   "cell_type": "markdown",
   "metadata": {},
   "source": [
    "### Now plot the other neg_factors that goes in the supplement\n",
    "For the paper, I plotted the 1:5 and 1:10 ratios separately, and then combined the svgs in inkscape"
   ]
  },
  {
   "cell_type": "code",
   "execution_count": 71,
   "metadata": {},
   "outputs": [
    {
     "name": "stdout",
     "output_type": "stream",
     "text": [
      "AUROC\n",
      "AUPRC\n",
      "Early Precision (0.3 Recall)\n",
      "outputs/viz/stringv11/400/2020-03-sarscov2-human-ppi-ace2/auroc-auprc-epr-box-nf10.pdf\n"
     ]
    },
    {
     "name": "stderr",
     "output_type": "stream",
     "text": [
      "/data/jeff-law/tools/anaconda3/envs/covid19/lib/python3.7/site-packages/ipykernel_launcher.py:8: SettingWithCopyWarning: \n",
      "A value is trying to be set on a copy of a slice from a DataFrame.\n",
      "Try using .loc[row_indexer,col_indexer] = value instead\n",
      "\n",
      "See the caveats in the documentation: https://pandas.pydata.org/pandas-docs/stable/user_guide/indexing.html#returning-a-view-versus-a-copy\n",
      "  \n",
      "/data/jeff-law/tools/anaconda3/envs/covid19/lib/python3.7/site-packages/ipykernel_launcher.py:8: SettingWithCopyWarning: \n",
      "A value is trying to be set on a copy of a slice from a DataFrame.\n",
      "Try using .loc[row_indexer,col_indexer] = value instead\n",
      "\n",
      "See the caveats in the documentation: https://pandas.pydata.org/pandas-docs/stable/user_guide/indexing.html#returning-a-view-versus-a-copy\n",
      "  \n",
      "/data/jeff-law/tools/anaconda3/envs/covid19/lib/python3.7/site-packages/ipykernel_launcher.py:8: SettingWithCopyWarning: \n",
      "A value is trying to be set on a copy of a slice from a DataFrame.\n",
      "Try using .loc[row_indexer,col_indexer] = value instead\n",
      "\n",
      "See the caveats in the documentation: https://pandas.pydata.org/pandas-docs/stable/user_guide/indexing.html#returning-a-view-versus-a-copy\n",
      "  \n"
     ]
    },
    {
     "data": {
      "image/png": "[encoded data removed]",
      "text/plain": [
       "<Figure size 288x576 with 3 Axes>"
      ]
     },
     "metadata": {
      "needs_background": "light"
     },
     "output_type": "display_data"
    }
   ],
   "source": [
    "sns.set_context('paper', font_scale=1.0)\n",
    "f, axes = plt.subplots(nrows=len(df2['measure'].unique()), sharey=True, figsize=(4,8))\n",
    "# for i, (ax, (measure, curr_df)) in enumerate(zip(axes, df2.groupby('measure'))):\n",
    "for i, (ax, measure) in enumerate(zip(axes, measures)):    \n",
    "    print(measure)\n",
    "    curr_df = df2[df2['measure'] == measure]\n",
    "#     print(curr_df.head())\n",
    "    curr_df['P:N Ratio'] = \"1:\" + curr_df['neg_factor'].astype(str)\n",
    "    ax = sns.boxplot(x='Algorithm', y='value', data=curr_df, saturation=1.0,\n",
    "#                     hue='P:N Ratio', \n",
    "                     fliersize=1, ax=ax, palette=\"Set2\")\n",
    "\n",
    "    ax.set_ylabel(measure)\n",
    "        \n",
    "    ax.set_ylim(0,0.83)\n",
    "    ax.set_xlabel(\"\")\n",
    "    if measure != \"AUROC\":\n",
    "        rand_pred = 1 / float(1 + neg_factor)\n",
    "    else:\n",
    "        rand_pred = 0.5\n",
    "    ax.axhline(rand_pred, color=\"gray\", linestyle=\"--\")\n",
    "\n",
    "plt.tight_layout()\n",
    "print(out_file)\n",
    "plt.savefig(out_file)\n",
    "plt.savefig(out_file.replace('.pdf','.svg'))"
   ]
  },
  {
   "cell_type": "code",
   "execution_count": 21,
   "metadata": {},
   "outputs": [
    {
     "data": {
      "text/html": [
       "<div>\n",
       "<style scoped>\n",
       "    .dataframe tbody tr th:only-of-type {\n",
       "        vertical-align: middle;\n",
       "    }\n",
       "\n",
       "    .dataframe tbody tr th {\n",
       "        vertical-align: top;\n",
       "    }\n",
       "\n",
       "    .dataframe thead th {\n",
       "        text-align: right;\n",
       "    }\n",
       "</style>\n",
       "<table border=\"1\" class=\"dataframe\">\n",
       "  <thead>\n",
       "    <tr style=\"text-align: right;\">\n",
       "      <th></th>\n",
       "      <th>auprc</th>\n",
       "      <th>auroc</th>\n",
       "      <th>eprec-rec0.1</th>\n",
       "      <th>neg_factor</th>\n",
       "    </tr>\n",
       "    <tr>\n",
       "      <th>Algorithm</th>\n",
       "      <th></th>\n",
       "      <th></th>\n",
       "      <th></th>\n",
       "      <th></th>\n",
       "    </tr>\n",
       "  </thead>\n",
       "  <tbody>\n",
       "    <tr>\n",
       "      <th>GM</th>\n",
       "      <td>0.24475</td>\n",
       "      <td>0.72830</td>\n",
       "      <td>0.44590</td>\n",
       "      <td>10.0</td>\n",
       "    </tr>\n",
       "    <tr>\n",
       "      <th>Local</th>\n",
       "      <td>0.17025</td>\n",
       "      <td>0.70960</td>\n",
       "      <td>0.18590</td>\n",
       "      <td>10.0</td>\n",
       "    </tr>\n",
       "    <tr>\n",
       "      <th>LogReg</th>\n",
       "      <td>0.24130</td>\n",
       "      <td>0.75705</td>\n",
       "      <td>0.38595</td>\n",
       "      <td>10.0</td>\n",
       "    </tr>\n",
       "    <tr>\n",
       "      <th>RL</th>\n",
       "      <td>0.26315</td>\n",
       "      <td>0.75890</td>\n",
       "      <td>0.45830</td>\n",
       "      <td>10.0</td>\n",
       "    </tr>\n",
       "    <tr>\n",
       "      <th>SS</th>\n",
       "      <td>0.20945</td>\n",
       "      <td>0.73635</td>\n",
       "      <td>0.28450</td>\n",
       "      <td>10.0</td>\n",
       "    </tr>\n",
       "    <tr>\n",
       "      <th>SVM</th>\n",
       "      <td>0.25090</td>\n",
       "      <td>0.76610</td>\n",
       "      <td>0.40740</td>\n",
       "      <td>10.0</td>\n",
       "    </tr>\n",
       "  </tbody>\n",
       "</table>\n",
       "</div>"
      ],
      "text/plain": [
       "             auprc    auroc  eprec-rec0.1  neg_factor\n",
       "Algorithm                                            \n",
       "GM         0.24475  0.72830       0.44590        10.0\n",
       "Local      0.17025  0.70960       0.18590        10.0\n",
       "LogReg     0.24130  0.75705       0.38595        10.0\n",
       "RL         0.26315  0.75890       0.45830        10.0\n",
       "SS         0.20945  0.73635       0.28450        10.0\n",
       "SVM        0.25090  0.76610       0.40740        10.0"
      ]
     },
     "execution_count": 21,
     "metadata": {},
     "output_type": "execute_result"
    }
   ],
   "source": [
    "# also write the medians to a file(?)\n",
    "df_med = df_all.groupby(\"Algorithm\").median()\n",
    "df_med = df_med.drop(columns=['# ann', 'repetition'])\n",
    "df_med"
   ]
  }
 ],
 "metadata": {
  "kernelspec": {
   "display_name": "Python 2",
   "language": "python",
   "name": "python2"
  },
  "language_info": {
   "codemirror_mode": {
    "name": "ipython",
    "version": 3
   },
   "file_extension": ".py",
   "mimetype": "text/x-python",
   "name": "python",
   "nbconvert_exporter": "python",
   "pygments_lexer": "ipython3",
   "version": "3.7.7"
  }
 },
 "nbformat": 4,
 "nbformat_minor": 4
}
